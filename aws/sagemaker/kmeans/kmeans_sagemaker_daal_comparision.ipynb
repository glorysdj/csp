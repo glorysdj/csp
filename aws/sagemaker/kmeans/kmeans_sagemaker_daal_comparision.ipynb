{
 "cells": [
  {
   "cell_type": "markdown",
   "metadata": {},
   "source": [
    "## Sagemaker, DAAL Comparsion with MNIST, Synthetic Datasets (0.5Mx20 and 4.8Mx20)\n",
    "\n",
    "\n",
    "1. [Introduction](#Introduction)  \n",
    "\n",
    "2. [MNIST Example: 50Kx784, k=10](#MNIST-Example:-50Kx784,-k=10)  \n",
    "    1. [Data Prep](#Data-Prep)  \n",
    "    2. [Sagemaker Training Setup]  \n",
    "    3. [Start Sagemaker Training]  \n",
    "    4. [Download Sagemaker Trained Model and Compute Accuracy]  \n",
    "    5. [Intel DAAL Kmeans with MNIST ]  \n",
    "    6. [Data Prep]  \n",
    "    7. [DAAL Training Setup]  \n",
    "    8. [Start DAAL Training]  \n",
    "    9. [Download DAAL Trained Model and Compute Accuracy]\n",
    "    10. [MNIST Summary]  \n",
    "    \n",
    "2. [Synthetic Dataset 1: 0.5Mx20, k=20]\n",
    "    1. [Data Prep]\n",
    "    2. [Sagemaker Training Setup]\n",
    "    3. [Start Sagemaker Training]\n",
    "    4. [Intel DAAL Kmeans with 0.5Mx20 Synthetic Dataset ]\n",
    "    5. [Data Prep]\n",
    "    6. [DAAL Training Setup]\n",
    "    7. [Start DAAL Training]\n",
    "    8. [Synthetic Dataset 1 (0.5Mx20) Summary]  \n",
    "    \n",
    "3. [Synthetic Dataset 2: 4.8Mx31, k=20]\n",
    "    1. [Data Prep]\n",
    "    2. [Sagemaker Training Setup]\n",
    "    3. [Start Sagemaker Training]\n",
    "    4. [Intel DAAL Kmeans with 4.8Mx31 Synthetic Dataset ]\n",
    "    5. [Data Prep]\n",
    "    6. [DAAL Training Setup]\n",
    "    7. [Start DAAL Training]\n",
    "    8. [Synthetic Dataset 1 (4.8Mx31) Summary]\n",
    "    \n",
    "4. [Covdata Dataset: 0.5Mx53, k=7]\n",
    "    1. [Data Prep]\n",
    "    2. [Sagemaker Training Setup]\n",
    "    3. [Start Sagemaker Training]\n",
    "    4. [Intel DAAL Kmeans with 4.8Mx31 Synthetic Dataset ]\n",
    "    5. [Data Prep]\n",
    "    6. [DAAL Training Setup]\n",
    "    7. [Start DAAL Training]\n",
    "    8. [Synthetic Dataset 1 (4.8Mx31) Summary]\n"
   ]
  },
  {
   "cell_type": "markdown",
   "metadata": {},
   "source": [
    "## Introduction\n",
    "\n",
    "In this we compare KMeans algorithm implemented in Sagemaker and Intel DAAL."
   ]
  },
  {
   "cell_type": "code",
   "execution_count": 1,
   "metadata": {},
   "outputs": [
    {
     "name": "stdout",
     "output_type": "stream",
     "text": [
      "Collecting mxnet\n",
      "\u001b[?25l  Downloading https://files.pythonhosted.org/packages/71/64/49c5125befd5e0f0e17f115d55cb78080adacbead9d19f253afd0157656a/mxnet-1.3.0.post0-py2.py3-none-manylinux1_x86_64.whl (27.7MB)\n",
      "\u001b[K    100% |████████████████████████████████| 27.8MB 1.9MB/s \n",
      "\u001b[?25hCollecting numpy<1.15.0,>=1.8.2 (from mxnet)\n",
      "\u001b[?25l  Downloading https://files.pythonhosted.org/packages/e5/c4/395ebb218053ba44d64935b3729bc88241ec279915e72100c5979db10945/numpy-1.14.6-cp36-cp36m-manylinux1_x86_64.whl (13.8MB)\n",
      "\u001b[K    100% |████████████████████████████████| 13.8MB 6.6MB/s \n",
      "\u001b[?25hRequirement already satisfied: requests<2.19.0,>=2.18.4 in /home/ec2-user/anaconda3/envs/python3/lib/python3.6/site-packages (from mxnet) (2.18.4)\n",
      "Collecting graphviz<0.9.0,>=0.8.1 (from mxnet)\n",
      "  Downloading https://files.pythonhosted.org/packages/53/39/4ab213673844e0c004bed8a0781a0721a3f6bb23eb8854ee75c236428892/graphviz-0.8.4-py2.py3-none-any.whl\n",
      "Requirement already satisfied: chardet<3.1.0,>=3.0.2 in /home/ec2-user/anaconda3/envs/python3/lib/python3.6/site-packages (from requests<2.19.0,>=2.18.4->mxnet) (3.0.4)\n",
      "Requirement already satisfied: idna<2.7,>=2.5 in /home/ec2-user/anaconda3/envs/python3/lib/python3.6/site-packages (from requests<2.19.0,>=2.18.4->mxnet) (2.6)\n",
      "Requirement already satisfied: urllib3<1.23,>=1.21.1 in /home/ec2-user/anaconda3/envs/python3/lib/python3.6/site-packages (from requests<2.19.0,>=2.18.4->mxnet) (1.22)\n",
      "Requirement already satisfied: certifi>=2017.4.17 in /home/ec2-user/anaconda3/envs/python3/lib/python3.6/site-packages (from requests<2.19.0,>=2.18.4->mxnet) (2018.8.24)\n",
      "\u001b[31mdistributed 1.21.8 requires msgpack, which is not installed.\u001b[0m\n",
      "Installing collected packages: numpy, graphviz, mxnet\n",
      "  Found existing installation: numpy 1.15.1\n",
      "    Uninstalling numpy-1.15.1:\n",
      "      Successfully uninstalled numpy-1.15.1\n",
      "Successfully installed graphviz-0.8.4 mxnet-1.3.0.post0 numpy-1.14.6\n",
      "\u001b[33mYou are using pip version 10.0.1, however version 18.0 is available.\n",
      "You should consider upgrading via the 'pip install --upgrade pip' command.\u001b[0m\n"
     ]
    }
   ],
   "source": [
    "!pip install mxnet"
   ]
  },
  {
   "cell_type": "markdown",
   "metadata": {},
   "source": [
    "## MNIST Example: 50Kx784, k=10"
   ]
  },
  {
   "cell_type": "markdown",
   "metadata": {},
   "source": [
    "### MNIST Data Prep\n",
    "\n",
    "Next, we read the dataset from the existing repository into memory, for preprocessing prior to training.  In this case we'll use the MNIST dataset, which contains 70K 28 x 28 pixel images of handwritten digits.  For more details, please see [here](http://yann.lecun.com/exdb/mnist/)."
   ]
  },
  {
   "cell_type": "code",
   "execution_count": 2,
   "metadata": {},
   "outputs": [
    {
     "name": "stdout",
     "output_type": "stream",
     "text": [
      "CPU times: user 1.15 s, sys: 4.33 s, total: 5.48 s\n",
      "Wall time: 5.76 s\n"
     ]
    }
   ],
   "source": [
    "%%time\n",
    "import pickle, gzip, urllib.request\n",
    "\n",
    "# Load the dataset\n",
    "urllib.request.urlretrieve(\"http://deeplearning.net/data/mnist/mnist.pkl.gz\", \"mnist.pkl.gz\")\n",
    "with gzip.open('mnist.pkl.gz', 'rb') as f:\n",
    "    train_set, valid_set, test_set = pickle.load(f, encoding='latin1')\n",
    "    "
   ]
  },
  {
   "cell_type": "code",
   "execution_count": 3,
   "metadata": {},
   "outputs": [
    {
     "name": "stdout",
     "output_type": "stream",
     "text": [
      "training artifacts will be uploaded to: s3://rpanchum/kmeans_sm_mnist\n"
     ]
    }
   ],
   "source": [
    "bucket_name = 'rpanchum' \n",
    "data_key = 'kmeans_sm_mnist'\n",
    "data_location = 's3://{}/{}'.format(bucket_name, data_key)\n",
    "output_location = 's3://{}/{}'.format(bucket_name, data_key)\n",
    "\n",
    "print('training artifacts will be uploaded to: {}'.format(output_location))"
   ]
  },
  {
   "cell_type": "markdown",
   "metadata": {},
   "source": [
    "### Sagemaker Training Setup"
   ]
  },
  {
   "cell_type": "code",
   "execution_count": 4,
   "metadata": {},
   "outputs": [
    {
     "name": "stdout",
     "output_type": "stream",
     "text": [
      "Building RecordSet format of training data as required by SM Kmeans...\n",
      "(<class 'sagemaker.amazon.amazon_estimator.RecordSet'>, {'s3_data': 's3://rpanchum/kmeans_sm_mnist/KMeans-2018-10-02-18-09-56-857/.amazon.manifest', 'feature_dim': 784, 'num_records': 50000, 's3_data_type': 'ManifestFile', 'channel': 'train'})\n"
     ]
    }
   ],
   "source": [
    "from sagemaker import KMeans\n",
    "from sagemaker import get_execution_role\n",
    "\n",
    "role = get_execution_role()\n",
    "\n",
    "sm_kmeans = KMeans(role=role,\n",
    "                    train_instance_count=1,\n",
    "                    train_instance_type='ml.c5.18xlarge',\n",
    "                    output_path=output_location,\n",
    "                    k=10,\n",
    "                    center_factor=1,\n",
    "                    init_method='kmeans++',\n",
    "                    max_iterations=50,\n",
    "                    data_location=data_location)\n",
    "\n",
    "print ('Building RecordSet format of training data as required by SM Kmeans...')\n",
    "sm_kmeans_records = sm_kmeans.record_set(train_set[0])\n",
    "print (sm_kmeans_records)"
   ]
  },
  {
   "cell_type": "markdown",
   "metadata": {},
   "source": [
    "### Start Sagemaker Training"
   ]
  },
  {
   "cell_type": "code",
   "execution_count": 5,
   "metadata": {},
   "outputs": [
    {
     "name": "stderr",
     "output_type": "stream",
     "text": [
      "INFO:sagemaker:Creating training-job with name: kmeans-2018-10-02-18-10-06-829\n"
     ]
    },
    {
     "name": "stdout",
     "output_type": "stream",
     "text": [
      "2018-10-02 18:10:07 Starting - Starting the training job...\n",
      "Launching requested ML instances......\n",
      "Preparing the instances for training...\n",
      "2018-10-02 18:11:42 Downloading - Downloading input data\n",
      "2018-10-02 18:11:48 Training - Downloading the training image...\n",
      "2018-10-02 18:12:29 Uploading - Uploading generated training model\n",
      "2018-10-02 18:12:34 Completed - Training job completed\n",
      "\n",
      "\u001b[31mDocker entrypoint called with argument(s): train\u001b[0m\n",
      "\u001b[31m[10/02/2018 18:12:25 INFO 139680048461632] Reading default configuration from /opt/amazon/lib/python2.7/site-packages/algorithm/resources/default-input.json: {u'_tuning_objective_metric': u'', u'_num_gpus': u'auto', u'local_lloyd_num_trials': u'auto', u'_log_level': u'info', u'_kvstore': u'auto', u'local_lloyd_init_method': u'kmeans++', u'force_dense': u'true', u'epochs': u'1', u'init_method': u'random', u'local_lloyd_tol': u'0.0001', u'local_lloyd_max_iter': u'300', u'_disable_wait_to_read': u'false', u'extra_center_factor': u'auto', u'eval_metrics': u'[\"msd\"]', u'_num_kv_servers': u'1', u'mini_batch_size': u'5000', u'half_life_time_size': u'0', u'_num_slices': u'1'}\u001b[0m\n",
      "\u001b[31m[10/02/2018 18:12:25 INFO 139680048461632] Reading provided configuration from /opt/ml/input/config/hyperparameters.json: {u'k': u'10', u'force_dense': u'True', u'init_method': u'kmeans++', u'feature_dim': u'784', u'local_lloyd_max_iter': u'50', u'extra_center_factor': u'1'}\u001b[0m\n",
      "\u001b[31m[10/02/2018 18:12:25 INFO 139680048461632] Final configuration: {u'_tuning_objective_metric': u'', u'extra_center_factor': u'1', u'local_lloyd_init_method': u'kmeans++', u'force_dense': u'True', u'epochs': u'1', u'feature_dim': u'784', u'local_lloyd_tol': u'0.0001', u'_disable_wait_to_read': u'false', u'eval_metrics': u'[\"msd\"]', u'_num_kv_servers': u'1', u'mini_batch_size': u'5000', u'_num_gpus': u'auto', u'local_lloyd_num_trials': u'auto', u'_log_level': u'info', u'init_method': u'kmeans++', u'half_life_time_size': u'0', u'local_lloyd_max_iter': u'50', u'_kvstore': u'auto', u'k': u'10', u'_num_slices': u'1'}\u001b[0m\n",
      "\u001b[31m[10/02/2018 18:12:25 WARNING 139680048461632] Loggers have already been setup.\u001b[0m\n",
      "\u001b[31m[10/02/2018 18:12:25 INFO 139680048461632] Using default worker.\u001b[0m\n",
      "\u001b[31m[10/02/2018 18:12:25 INFO 139680048461632] Loaded iterator creator application/x-recordio-protobuf for content type ('application/x-recordio-protobuf', '1.0')\u001b[0m\n",
      "\u001b[31m[10/02/2018 18:12:25 INFO 139680048461632] Create Store: local\u001b[0m\n",
      "\u001b[31m[10/02/2018 18:12:25 INFO 139680048461632] nvidia-smi took: 0.0251960754395 secs to identify 0 gpus\u001b[0m\n",
      "\u001b[31m[10/02/2018 18:12:25 INFO 139680048461632] Number of GPUs being used: 0\u001b[0m\n",
      "\u001b[31m[10/02/2018 18:12:25 INFO 139680048461632] Setting up with params: {u'_tuning_objective_metric': u'', u'extra_center_factor': u'1', u'local_lloyd_init_method': u'kmeans++', u'force_dense': u'True', u'epochs': u'1', u'feature_dim': u'784', u'local_lloyd_tol': u'0.0001', u'_disable_wait_to_read': u'false', u'eval_metrics': u'[\"msd\"]', u'_num_kv_servers': u'1', u'mini_batch_size': u'5000', u'_num_gpus': u'auto', u'local_lloyd_num_trials': u'auto', u'_log_level': u'info', u'init_method': u'kmeans++', u'half_life_time_size': u'0', u'local_lloyd_max_iter': u'50', u'_kvstore': u'auto', u'k': u'10', u'_num_slices': u'1'}\u001b[0m\n",
      "\u001b[31m/opt/amazon/lib/python2.7/site-packages/ai_algorithms_sdk/config/config_helper.py:172: DeprecationWarning: deprecated\n",
      "  warnings.warn(\"deprecated\", DeprecationWarning)\u001b[0m\n",
      "\u001b[31m/opt/amazon/lib/python2.7/site-packages/ai_algorithms_sdk/config/config_helper.py:122: DeprecationWarning: deprecated\n",
      "  warnings.warn(\"deprecated\", DeprecationWarning)\u001b[0m\n",
      "\u001b[31m[10/02/2018 18:12:25 INFO 139680048461632] Number of GPUs being used: 0\u001b[0m\n",
      "\u001b[31m[10/02/2018 18:12:25 INFO 139680048461632] number of center slices 1\u001b[0m\n",
      "\u001b[31m#metrics {\"Metrics\": {\"Max Batches Seen Between Resets\": {\"count\": 1, \"max\": 1, \"sum\": 1.0, \"min\": 1}, \"Number of Batches Since Last Reset\": {\"count\": 1, \"max\": 1, \"sum\": 1.0, \"min\": 1}, \"Number of Records Since Last Reset\": {\"count\": 1, \"max\": 5000, \"sum\": 5000.0, \"min\": 5000}, \"Total Batches Seen\": {\"count\": 1, \"max\": 1, \"sum\": 1.0, \"min\": 1}, \"Total Records Seen\": {\"count\": 1, \"max\": 5000, \"sum\": 5000.0, \"min\": 5000}, \"Max Records Seen Between Resets\": {\"count\": 1, \"max\": 5000, \"sum\": 5000.0, \"min\": 5000}, \"Reset Count\": {\"count\": 1, \"max\": 0, \"sum\": 0.0, \"min\": 0}}, \"EndTime\": 1538503945.344113, \"Dimensions\": {\"Host\": \"algo-1\", \"Meta\": \"init_train_data_iter\", \"Operation\": \"training\", \"Algorithm\": \"AWS/KMeansWebscale\"}, \"StartTime\": 1538503945.344083}\n",
      "\u001b[0m\n",
      "\u001b[31m[10/02/2018 18:12:25 INFO 139680048461632] processed a total of 50000 examples\u001b[0m\n",
      "\u001b[31m[10/02/2018 18:12:25 INFO 139680048461632] #progress_metric: host=algo-1, completed 100 % of epochs\u001b[0m\n",
      "\u001b[31m#metrics {\"Metrics\": {\"Max Batches Seen Between Resets\": {\"count\": 1, \"max\": 10, \"sum\": 10.0, \"min\": 10}, \"Number of Batches Since Last Reset\": {\"count\": 1, \"max\": 10, \"sum\": 10.0, \"min\": 10}, \"Number of Records Since Last Reset\": {\"count\": 1, \"max\": 50000, \"sum\": 50000.0, \"min\": 50000}, \"Total Batches Seen\": {\"count\": 1, \"max\": 11, \"sum\": 11.0, \"min\": 11}, \"Total Records Seen\": {\"count\": 1, \"max\": 55000, \"sum\": 55000.0, \"min\": 55000}, \"Max Records Seen Between Resets\": {\"count\": 1, \"max\": 50000, \"sum\": 50000.0, \"min\": 50000}, \"Reset Count\": {\"count\": 1, \"max\": 1, \"sum\": 1.0, \"min\": 1}}, \"EndTime\": 1538503945.720548, \"Dimensions\": {\"Host\": \"algo-1\", \"Meta\": \"training_data_iter\", \"Operation\": \"training\", \"Algorithm\": \"AWS/KMeansWebscale\", \"epoch\": 0}, \"StartTime\": 1538503945.344298}\n",
      "\u001b[0m\n",
      "\u001b[31m[10/02/2018 18:12:25 INFO 139680048461632] #throughput_metric: host=algo-1, train throughput=132855.081259 records/second\u001b[0m\n",
      "\u001b[31m[10/02/2018 18:12:25 WARNING 139680048461632] wait_for_all_workers will not sync workers since the kv store is not running distributed\u001b[0m\n",
      "\u001b[31m[10/02/2018 18:12:25 INFO 139680048461632] shrinking 10 centers into 10\u001b[0m\n",
      "\u001b[31m[10/02/2018 18:12:25 INFO 139680048461632] local kmeans attempt #0. Current mean square distance 0.000000\u001b[0m\n",
      "\u001b[31m[10/02/2018 18:12:25 INFO 139680048461632] local kmeans attempt #1. Current mean square distance 0.000000\u001b[0m\n",
      "\u001b[31m[10/02/2018 18:12:25 INFO 139680048461632] local kmeans attempt #2. Current mean square distance 0.000000\u001b[0m\n",
      "\u001b[31m[10/02/2018 18:12:25 INFO 139680048461632] local kmeans attempt #3. Current mean square distance 0.000000\u001b[0m\n",
      "\u001b[31m[10/02/2018 18:12:25 INFO 139680048461632] local kmeans attempt #4. Current mean square distance 0.000000\u001b[0m\n",
      "\u001b[31m[10/02/2018 18:12:25 INFO 139680048461632] local kmeans attempt #5. Current mean square distance 0.000000\u001b[0m\n",
      "\u001b[31m[10/02/2018 18:12:25 INFO 139680048461632] local kmeans attempt #6. Current mean square distance 0.000000\u001b[0m\n",
      "\u001b[31m[10/02/2018 18:12:25 INFO 139680048461632] local kmeans attempt #7. Current mean square distance 0.000000\u001b[0m\n",
      "\u001b[31m[10/02/2018 18:12:25 INFO 139680048461632] local kmeans attempt #8. Current mean square distance 0.000000\u001b[0m\n",
      "\u001b[31m[10/02/2018 18:12:25 INFO 139680048461632] local kmeans attempt #9. Current mean square distance 0.000000\u001b[0m\n",
      "\u001b[31m[10/02/2018 18:12:25 INFO 139680048461632] finished shrinking process. Mean Square Distance = 0\u001b[0m\n",
      "\u001b[31m[10/02/2018 18:12:25 INFO 139680048461632] #quality_metric: host=algo-1, train msd <loss>=2.07325669521e-07\u001b[0m\n",
      "\u001b[31m[10/02/2018 18:12:25 INFO 139680048461632] batch data loading with context took: 85.0963%, (0.319366 secs)\u001b[0m\n",
      "\u001b[31m[10/02/2018 18:12:25 INFO 139680048461632] compute all data-center distances: point norm took: 5.4081%, (0.020297 secs)\u001b[0m\n",
      "\u001b[31m[10/02/2018 18:12:25 INFO 139680048461632] gradient: cluster center took: 3.0431%, (0.011421 secs)\u001b[0m\n",
      "\u001b[31m[10/02/2018 18:12:25 INFO 139680048461632] predict compute msd took: 2.0281%, (0.007612 secs)\u001b[0m\n",
      "\u001b[31m[10/02/2018 18:12:25 INFO 139680048461632] update state and report convergance took: 1.1224%, (0.004212 secs)\u001b[0m\n",
      "\u001b[31m[10/02/2018 18:12:25 INFO 139680048461632] compute all data-center distances: inner product took: 0.7977%, (0.002994 secs)\u001b[0m\n",
      "\u001b[31m[10/02/2018 18:12:25 INFO 139680048461632] collect from kv store took: 0.6921%, (0.002598 secs)\u001b[0m\n",
      "\u001b[31m[10/02/2018 18:12:25 INFO 139680048461632] gradient: one_hot took: 0.5991%, (0.002248 secs)\u001b[0m\n",
      "\u001b[31m[10/02/2018 18:12:25 INFO 139680048461632] splitting centers key-value pair took: 0.4390%, (0.001648 secs)\u001b[0m\n",
      "\u001b[31m[10/02/2018 18:12:25 INFO 139680048461632] gradient: cluster size  took: 0.3700%, (0.001389 secs)\u001b[0m\n",
      "\u001b[31m[10/02/2018 18:12:25 INFO 139680048461632] compute all data-center distances: center norm took: 0.3321%, (0.001246 secs)\u001b[0m\n",
      "\u001b[31m[10/02/2018 18:12:25 INFO 139680048461632] predict minus dist took: 0.0496%, (0.000186 secs)\u001b[0m\n",
      "\u001b[31m[10/02/2018 18:12:25 INFO 139680048461632] update set-up time took: 0.0224%, (0.000084 secs)\u001b[0m\n",
      "\u001b[31m[10/02/2018 18:12:25 INFO 139680048461632] TOTAL took: 0.375299930573\u001b[0m\n",
      "\u001b[31m[10/02/2018 18:12:25 INFO 139680048461632] Number of GPUs being used: 0\u001b[0m\n",
      "\u001b[31m#metrics {\"Metrics\": {\"finalize.time\": {\"count\": 1, \"max\": 144.95205879211426, \"sum\": 144.95205879211426, \"min\": 144.95205879211426}, \"initialize.time\": {\"count\": 1, \"max\": 39.18099403381348, \"sum\": 39.18099403381348, \"min\": 39.18099403381348}, \"model.serialize.time\": {\"count\": 1, \"max\": 0.22792816162109375, \"sum\": 0.22792816162109375, \"min\": 0.22792816162109375}, \"update.time\": {\"count\": 1, \"max\": 376.0988712310791, \"sum\": 376.0988712310791, \"min\": 376.0988712310791}, \"epochs\": {\"count\": 1, \"max\": 1, \"sum\": 1.0, \"min\": 1}, \"state.serialize.time\": {\"count\": 1, \"max\": 0.34308433532714844, \"sum\": 0.34308433532714844, \"min\": 0.34308433532714844}, \"_shrink.time\": {\"count\": 1, \"max\": 144.02198791503906, \"sum\": 144.02198791503906, \"min\": 144.02198791503906}}, \"EndTime\": 1538503945.86646, \"Dimensions\": {\"Host\": \"algo-1\", \"Operation\": \"training\", \"Algorithm\": \"AWS/KMeansWebscale\"}, \"StartTime\": 1538503945.263036}\n",
      "\u001b[0m\n",
      "\u001b[31m[10/02/2018 18:12:25 INFO 139680048461632] Test data is not provided.\u001b[0m\n",
      "\u001b[31m#metrics {\"Metrics\": {\"totaltime\": {\"count\": 1, \"max\": 675.5049228668213, \"sum\": 675.5049228668213, \"min\": 675.5049228668213}, \"setuptime\": {\"count\": 1, \"max\": 18.290996551513672, \"sum\": 18.290996551513672, \"min\": 18.290996551513672}}, \"EndTime\": 1538503945.869797, \"Dimensions\": {\"Host\": \"algo-1\", \"Operation\": \"training\", \"Algorithm\": \"AWS/KMeansWebscale\"}, \"StartTime\": 1538503945.866549}\n",
      "\u001b[0m\n",
      "Billable seconds: 53\n",
      "CPU times: user 316 ms, sys: 32 ms, total: 348 ms\n",
      "Wall time: 2min 41s\n"
     ]
    }
   ],
   "source": [
    "%%time\n",
    "sm_kmeans.fit(sm_kmeans_records)"
   ]
  },
  {
   "cell_type": "code",
   "execution_count": null,
   "metadata": {},
   "outputs": [],
   "source": []
  },
  {
   "cell_type": "code",
   "execution_count": 6,
   "metadata": {},
   "outputs": [
    {
     "name": "stdout",
     "output_type": "stream",
     "text": [
      "Training Job Name:  kmeans-2018-10-02-18-10-06-829\n",
      "Model saved at:  s3://rpanchum/kmeans_sm_mnist/kmeans-2018-10-02-18-10-06-829/output/model.tar.gz\n"
     ]
    }
   ],
   "source": [
    "print(\"Training Job Name: \", sm_kmeans.latest_training_job.name)\n",
    "print(\"Model saved at: \", sm_kmeans.model_data)"
   ]
  },
  {
   "cell_type": "markdown",
   "metadata": {},
   "source": [
    "### Download Sagemaker Trained Model and Compute Accuracy"
   ]
  },
  {
   "cell_type": "code",
   "execution_count": 9,
   "metadata": {},
   "outputs": [
    {
     "name": "stdout",
     "output_type": "stream",
     "text": [
      "Downloading the model saved at:  s3://rpanchum/kmeans_sm_mnist/kmeans-2018-10-02-18-10-06-829/output/model.tar.gz\n",
      "MNIST SM centroids shape:  (10, 784)\n"
     ]
    }
   ],
   "source": [
    "import os, boto3\n",
    "import mxnet as mx\n",
    "\n",
    "model_key = data_key + \"/\" + sm_kmeans.latest_training_job.name + '/output/model.tar.gz'\n",
    "print ('Downloading the model saved at: ', sm_kmeans.model_data)\n",
    "\n",
    "boto3.resource('s3').Bucket(bucket_name).download_file(model_key, 'sm_model.tar.gz')\n",
    "\n",
    "os.system('tar -zxf sm_model.tar.gz && unzip model_algo-1')\n",
    "\n",
    "Kmeans_model_params = mx.ndarray.load('model_algo-1')\n",
    "sagemaker_centroids=Kmeans_model_params[0].asnumpy()\n",
    "print('MNIST SM centroids shape: ', sagemaker_centroids.shape)\n"
   ]
  },
  {
   "cell_type": "code",
   "execution_count": 10,
   "metadata": {},
   "outputs": [
    {
     "name": "stdout",
     "output_type": "stream",
     "text": [
      "SM Accuracy on MNIST Train Set:  0.35307083305090553\n",
      "SM Accuracy on MNIST Test Set:  0.3718264677316024\n"
     ]
    }
   ],
   "source": [
    "from sklearn.cluster import KMeans \n",
    "from sklearn.metrics.cluster import v_measure_score\n",
    "\n",
    "sklearn_kmeans = KMeans(10)\n",
    "sklearn_kmeans.cluster_centers_ = sagemaker_centroids\n",
    "\n",
    "sm_train_assignments=sklearn_kmeans.predict(train_set[0])\n",
    "sm_test_assignments=sklearn_kmeans.predict(test_set[0])\n",
    "\n",
    "print(\"SM Accuracy on MNIST Train Set: \", str(v_measure_score(train_set[1], sm_train_assignments)))\n",
    "print(\"SM Accuracy on MNIST Test Set: \" , str(v_measure_score(test_set[1], sm_test_assignments)))"
   ]
  },
  {
   "cell_type": "markdown",
   "metadata": {},
   "source": [
    "## Intel DAAL Kmeans with MNIST "
   ]
  },
  {
   "cell_type": "markdown",
   "metadata": {},
   "source": [
    "### Data Prep"
   ]
  },
  {
   "cell_type": "code",
   "execution_count": 12,
   "metadata": {},
   "outputs": [
    {
     "name": "stdout",
     "output_type": "stream",
     "text": [
      "Training artifacts will be uploaded at: s3://rpanchum/kmeans_daal_mnist\n"
     ]
    }
   ],
   "source": [
    "import numpy as np\n",
    "\n",
    "training_data_file = 'train_data_mnist.csv'\n",
    "np.savetxt(training_data_file, train_set[0], delimiter=\",\")\n",
    "\n",
    "data_key = 'kmeans_daal_mnist'\n",
    "output_location = 's3://{}/{}'.format(bucket_name, data_key)\n",
    "\n",
    "print (\"Training artifacts will be uploaded at: \" + output_location)"
   ]
  },
  {
   "cell_type": "code",
   "execution_count": null,
   "metadata": {},
   "outputs": [],
   "source": [
    "\n"
   ]
  },
  {
   "cell_type": "markdown",
   "metadata": {},
   "source": [
    "### DAAL Training Setup"
   ]
  },
  {
   "cell_type": "code",
   "execution_count": 13,
   "metadata": {},
   "outputs": [],
   "source": [
    "import sagemaker as sage\n",
    "from sagemaker import get_execution_role\n",
    "\n",
    "role = get_execution_role()\n",
    "sess = sage.Session()\n",
    "\n",
    "data_location = sess.upload_data(training_data_file, bucket=bucket_name, key_prefix=data_key)\n",
    "\n",
    "daal_kmeans_image = '927702822156.dkr.ecr.us-west-2.amazonaws.com/daal-kmeans-sample:latest'\n",
    "\n",
    "daal_kmeans = sage.estimator.Estimator(image_name=daal_kmeans_image,\n",
    "                                       role=role,\n",
    "                                       train_instance_count=1,\n",
    "                                       train_instance_type='ml.c5.18xlarge',\n",
    "                                       output_path=output_location,\n",
    "                                       sagemaker_session=sess,\n",
    "                                       hyperparameters={'nClusters': 10,\n",
    "                                                        'initialCentroidMethod': 'plusPlusDense',\n",
    "                                                        'maxIterations': 50 } \n",
    "                                      )"
   ]
  },
  {
   "cell_type": "markdown",
   "metadata": {},
   "source": [
    "### Start DAAL Training"
   ]
  },
  {
   "cell_type": "code",
   "execution_count": 14,
   "metadata": {},
   "outputs": [
    {
     "name": "stderr",
     "output_type": "stream",
     "text": [
      "INFO:sagemaker:Creating training-job with name: daal-kmeans-sample-2018-10-02-18-20-34-929\n"
     ]
    },
    {
     "name": "stdout",
     "output_type": "stream",
     "text": [
      "2018-10-02 18:20:35 Starting - Starting the training job...\n",
      "Launching requested ML instances...\n",
      "Preparing the instances for training......\n",
      "2018-10-02 18:22:10 Downloading - Downloading input data\n",
      "2018-10-02 18:22:28 Training - Downloading the training image.....\n",
      "\u001b[31m2018-10-02 18:23:16 INFO     Container setup completed, In Docker entrypoint - train... \u001b[0m\n",
      "\u001b[31m2018-10-02 18:23:16 INFO     Default Hyperparameters loaded: \u001b[0m\n",
      "\u001b[31m2018-10-02 18:23:16 INFO     {'accuracyThreshold': 0.0001,\n",
      " 'assignFlag': True,\n",
      " 'distanceType': 'euclidean',\n",
      " 'gamma': 1.0,\n",
      " 'initialCentroidMethod': 'defaultDense',\n",
      " 'maxIterations': 300,\n",
      " 'method': 'defaultDense',\n",
      " 'nClusters': 2,\n",
      " 'nRounds': 5,\n",
      " 'oversamplingFactor': 0.5}\u001b[0m\n",
      "\u001b[31m2018-10-02 18:23:16 INFO     Updated with user hyperparameters, Final Hyperparameters: \u001b[0m\n",
      "\u001b[31m2018-10-02 18:23:16 INFO     {'accuracyThreshold': 0.0001,\n",
      " 'assignFlag': True,\n",
      " 'distanceType': 'euclidean',\n",
      " 'gamma': 1.0,\n",
      " 'initialCentroidMethod': u'plusPlusDense',\n",
      " 'maxIterations': u'50',\n",
      " 'method': 'defaultDense',\n",
      " 'nClusters': u'10',\n",
      " 'nRounds': 5,\n",
      " 'oversamplingFactor': 0.5}\u001b[0m\n",
      "\u001b[31m2018-10-02 18:23:16 INFO     Reading training data... \u001b[0m\n",
      "\n",
      "2018-10-02 18:23:32 Uploading - Uploading generated training model\u001b[31m2018-10-02 18:23:26 INFO     Training Data Shape: (50000, 784)\u001b[0m\n",
      "\u001b[31m2018-10-02 18:23:27 INFO     Starting DAAL Kmeans training...\u001b[0m\n",
      "\u001b[31m2018-10-02 18:23:27 INFO     Training time in sec = 0.556016921997\u001b[0m\n",
      "\u001b[31m2018-10-02 18:23:27 INFO     Model saved at <open file '/opt/ml/model/daal-kmeans-model.npy', mode 'w' at 0x7fa458736270>\u001b[0m\n",
      "\n",
      "2018-10-02 18:23:37 Completed - Training job completed\n",
      "Billable seconds: 88\n",
      "CPU times: user 428 ms, sys: 20 ms, total: 448 ms\n",
      "Wall time: 3min 42s\n"
     ]
    }
   ],
   "source": [
    "%%time\n",
    "daal_kmeans.fit(data_location)"
   ]
  },
  {
   "cell_type": "code",
   "execution_count": 15,
   "metadata": {},
   "outputs": [
    {
     "name": "stdout",
     "output_type": "stream",
     "text": [
      "Training Job Name:  daal-kmeans-sample-2018-10-02-18-20-34-929\n",
      "Model saved at:  s3://rpanchum/kmeans_daal_mnist/daal-kmeans-sample-2018-10-02-18-20-34-929/output/model.tar.gz\n"
     ]
    }
   ],
   "source": [
    "print(\"Training Job Name: \", daal_kmeans.latest_training_job.name)\n",
    "print(\"Model saved at: \", daal_kmeans.model_data)"
   ]
  },
  {
   "cell_type": "markdown",
   "metadata": {},
   "source": [
    "### Download DAAL Trained Model and Compute Accuracy"
   ]
  },
  {
   "cell_type": "code",
   "execution_count": 16,
   "metadata": {},
   "outputs": [
    {
     "name": "stdout",
     "output_type": "stream",
     "text": [
      "Downloading the model saved at:  s3://rpanchum/kmeans_daal_mnist/daal-kmeans-sample-2018-10-02-18-20-34-929/output/model.tar.gz\n",
      "kmeans_daal_mnist/daal-kmeans-sample-2018-10-02-18-20-34-929/output/model.tar.gz\n",
      "MNIST DAAL centroids shape:  (10, 784)\n"
     ]
    }
   ],
   "source": [
    "import os, boto3\n",
    "\n",
    "model_key = data_key + \"/\" + daal_kmeans.latest_training_job.name + '/output/model.tar.gz'\n",
    "print ('Downloading the model saved at: ', daal_kmeans.model_data)\n",
    "print(model_key)\n",
    "boto3.resource('s3').Bucket(bucket_name).download_file(model_key, 'daal_model.tar.gz')\n",
    "\n",
    "os.system('tar -zxf daal_model.tar.gz')\n",
    "daal_centroids, daal_assignments = np.load(\"daal-kmeans-model.npy\", encoding = 'latin1')\n",
    "print('MNIST DAAL centroids shape: ', daal_centroids.shape)"
   ]
  },
  {
   "cell_type": "code",
   "execution_count": 17,
   "metadata": {},
   "outputs": [
    {
     "name": "stdout",
     "output_type": "stream",
     "text": [
      "DAAL Accuracy on MNIST Train Set:  0.4937834635054327\n",
      "DAAL Accuracy on MNIST Test Set:  0.5073462004406061\n"
     ]
    }
   ],
   "source": [
    "from sklearn.cluster import KMeans \n",
    "from sklearn.metrics.cluster import v_measure_score\n",
    "\n",
    "sklearn_kmeans = KMeans(10)\n",
    "sklearn_kmeans.cluster_centers_ = daal_centroids\n",
    "\n",
    "daal_train_assignments=sklearn_kmeans.predict(train_set[0])\n",
    "daal_test_assignments=sklearn_kmeans.predict(test_set[0])\n",
    "\n",
    "print(\"DAAL Accuracy on MNIST Train Set: \", str(v_measure_score(train_set[1], daal_train_assignments)))\n",
    "print(\"DAAL Accuracy on MNIST Test Set: \" , str(v_measure_score(test_set[1], daal_test_assignments)))"
   ]
  },
  {
   "cell_type": "markdown",
   "metadata": {},
   "source": [
    "### MNIST Summary\n",
    "k=10, maxIterations=50 \n",
    "\n",
    "Sagemaker Training Time Only: 0.37 sec  \n",
    "DAAL Training Time Only: 0.55 sec  \n",
    "\n",
    "Sagemaker MNIST Test Accuracy: 37.1%  \n",
    "DAAL MNIST Test Accuracy: 50.7%  "
   ]
  },
  {
   "cell_type": "markdown",
   "metadata": {},
   "source": [
    "## Synthetic Dataset 1: 0.5Mx20, k=20"
   ]
  },
  {
   "cell_type": "markdown",
   "metadata": {},
   "source": [
    "### Data Prep"
   ]
  },
  {
   "cell_type": "code",
   "execution_count": 18,
   "metadata": {},
   "outputs": [
    {
     "name": "stdout",
     "output_type": "stream",
     "text": [
      "--2018-10-02 18:24:17--  https://s3-us-west-2.amazonaws.com/rpanchum/kmeans_datasets/0.5Mx20/mlsd2_500000_20_20.csv\n",
      "Resolving s3-us-west-2.amazonaws.com (s3-us-west-2.amazonaws.com)... 52.218.201.136\n",
      "Connecting to s3-us-west-2.amazonaws.com (s3-us-west-2.amazonaws.com)|52.218.201.136|:443... connected.\n",
      "HTTP request sent, awaiting response... 200 OK\n",
      "Length: 105000000 (100M) [text/csv]\n",
      "Saving to: ‘mlsd2_500000_20_20.csv’\n",
      "\n",
      "mlsd2_500000_20_20. 100%[===================>] 100.14M  86.8MB/s    in 1.2s    \n",
      "\n",
      "2018-10-02 18:24:19 (86.8 MB/s) - ‘mlsd2_500000_20_20.csv’ saved [105000000/105000000]\n",
      "\n"
     ]
    }
   ],
   "source": [
    "!wget -O mlsd2_500000_20_20.csv https://s3-us-west-2.amazonaws.com/rpanchum/kmeans_datasets/0.5Mx20/mlsd2_500000_20_20.csv"
   ]
  },
  {
   "cell_type": "code",
   "execution_count": 19,
   "metadata": {},
   "outputs": [
    {
     "name": "stdout",
     "output_type": "stream",
     "text": [
      "                  0              1              2              3   \\\n",
      "count  500000.000000  500000.000000  500000.000000  500000.000000   \n",
      "mean       54.440392      55.849094      57.122341      57.997566   \n",
      "std        17.286438      15.576500      18.243711      18.005829   \n",
      "min        24.709999      20.190001      22.700001      20.540001   \n",
      "25%        36.709999      43.220001      42.349998      42.750000   \n",
      "50%        54.250000      53.299999      61.349998      60.150002   \n",
      "75%        71.160004      70.860001      72.519997      74.239998   \n",
      "max        91.169998      89.129997      89.080002      92.459999   \n",
      "\n",
      "                  4              5              6              7   \\\n",
      "count  500000.000000  500000.000000  500000.000000  500000.000000   \n",
      "mean       54.450413      56.562336      55.726784      56.136658   \n",
      "std        17.778864      18.171492      16.956083      17.414059   \n",
      "min        24.790001      22.330000      24.530001      21.500000   \n",
      "25%        35.520000      40.430000      38.070000      41.700001   \n",
      "50%        54.790001      57.029999      58.360001      54.419998   \n",
      "75%        71.910004      74.930000      66.849998      70.160004   \n",
      "max        87.940002      90.889999      93.540001      88.580002   \n",
      "\n",
      "                  8              9       ...                   11  \\\n",
      "count  500000.000000  500000.000000      ...        500000.000000   \n",
      "mean       58.001858      57.554466      ...            56.614548   \n",
      "std        17.884829      18.064907      ...            18.208382   \n",
      "min        20.639999      22.379999      ...            16.770000   \n",
      "25%        40.740002      38.320000      ...            44.040001   \n",
      "50%        57.369999      63.900002      ...            57.400002   \n",
      "75%        73.769997      72.779999      ...            74.169998   \n",
      "max        89.330002      89.099998      ...            89.000000   \n",
      "\n",
      "                  12             13             14             15  \\\n",
      "count  500000.000000  500000.000000  500000.000000  500000.000000   \n",
      "mean       56.065472      55.268497      54.390404      55.317017   \n",
      "std        17.797192      17.149839      16.534781      17.437401   \n",
      "min        23.430000      20.219999      21.900000      17.139999   \n",
      "25%        38.160000      40.299999      40.540001      40.080002   \n",
      "50%        58.509998      55.470001      56.060001      55.410000   \n",
      "75%        71.449997      67.820000      67.599998      72.510002   \n",
      "max        86.059998      91.410004      88.980003      88.809998   \n",
      "\n",
      "                  16             17             18             19  \\\n",
      "count  500000.000000  500000.000000  500000.000000  500000.000000   \n",
      "mean       56.693531      56.077961      56.570129      56.536282   \n",
      "std        18.698183      16.253635      18.216196      17.865135   \n",
      "min        20.910000      21.379999      24.120001      18.370001   \n",
      "25%        39.270000      41.490002      39.730000      39.380001   \n",
      "50%        61.230000      56.549999      57.840000      56.000000   \n",
      "75%        74.180000      68.980003      73.889999      73.510002   \n",
      "max        89.910004      88.830002      95.379997      91.419998   \n",
      "\n",
      "                  20  \n",
      "count  500000.000000  \n",
      "mean       42.694263  \n",
      "std        25.688370  \n",
      "min         1.000000  \n",
      "25%        20.000000  \n",
      "50%        44.000000  \n",
      "75%        67.000000  \n",
      "max        84.000000  \n",
      "\n",
      "[8 rows x 21 columns]\n",
      "Training data shape:  (500000, 21)\n",
      "CPU times: user 1.78 s, sys: 64 ms, total: 1.84 s\n",
      "Wall time: 1.84 s\n"
     ]
    }
   ],
   "source": [
    "%%time\n",
    "import pandas as pd\n",
    "import numpy as np\n",
    "\n",
    "input_file_0_5Mx20 = \"mlsd2_500000_20_20.csv\"\n",
    "data = pd.read_csv(input_file_0_5Mx20, header=None, dtype=np.float32)\n",
    "print(data.describe())\n",
    "\n",
    "train_set = np.array(data)\n",
    "print (\"Training data shape: \", train_set.shape)"
   ]
  },
  {
   "cell_type": "code",
   "execution_count": 20,
   "metadata": {},
   "outputs": [
    {
     "name": "stdout",
     "output_type": "stream",
     "text": [
      "training artifacts will be uploaded to: s3://rpanchum/kmeans_sm_0.5Mx20\n"
     ]
    }
   ],
   "source": [
    "bucket_name = 'rpanchum' \n",
    "data_key = 'kmeans_sm_0.5Mx20'\n",
    "data_location = 's3://{}/{}'.format(bucket_name, data_key)\n",
    "output_location = 's3://{}/{}'.format(bucket_name, data_key)\n",
    "\n",
    "print('training artifacts will be uploaded to: {}'.format(output_location))"
   ]
  },
  {
   "cell_type": "markdown",
   "metadata": {},
   "source": [
    "### Sagemaker Training Setup"
   ]
  },
  {
   "cell_type": "code",
   "execution_count": 21,
   "metadata": {},
   "outputs": [
    {
     "name": "stdout",
     "output_type": "stream",
     "text": [
      "Building RecordSet format of training data as required by SM Kmeans...\n",
      "(<class 'sagemaker.amazon.amazon_estimator.RecordSet'>, {'s3_data': 's3://rpanchum/kmeans_sm_0.5Mx20/KMeans-2018-10-02-18-24-21-536/.amazon.manifest', 'feature_dim': 21, 'num_records': 500000, 's3_data_type': 'ManifestFile', 'channel': 'train'})\n",
      "CPU times: user 13.8 s, sys: 0 ns, total: 13.8 s\n",
      "Wall time: 14.9 s\n"
     ]
    }
   ],
   "source": [
    "%%time\n",
    "from sagemaker import KMeans\n",
    "from sagemaker import get_execution_role\n",
    "\n",
    "role = get_execution_role()\n",
    "\n",
    "sm_kmeans = KMeans(role=role,\n",
    "                    train_instance_count=1,\n",
    "                    train_instance_type='ml.c5.18xlarge',\n",
    "                    output_path=output_location,\n",
    "                    k=20,\n",
    "                    center_factor=1,\n",
    "                    init_method='kmeans++',\n",
    "                    max_iterations=100,\n",
    "                    data_location=data_location)\n",
    "\n",
    "print ('Building RecordSet format of training data as required by SM Kmeans...')\n",
    "sm_kmeans_records = sm_kmeans.record_set(train_set)\n",
    "print (sm_kmeans_records)"
   ]
  },
  {
   "cell_type": "markdown",
   "metadata": {},
   "source": [
    "### Start Sagemaker Training"
   ]
  },
  {
   "cell_type": "code",
   "execution_count": 22,
   "metadata": {},
   "outputs": [
    {
     "name": "stderr",
     "output_type": "stream",
     "text": [
      "INFO:sagemaker:Creating training-job with name: kmeans-2018-10-02-18-24-35-967\n"
     ]
    },
    {
     "name": "stdout",
     "output_type": "stream",
     "text": [
      "2018-10-02 18:24:36 Starting - Starting the training job...\n",
      "Launching requested ML instances......\n",
      "Preparing the instances for training......\n",
      "2018-10-02 18:26:51 Downloading - Downloading input data\n",
      "2018-10-02 18:27:02 Training - Downloading the training image...\n",
      "2018-10-02 18:27:26 Uploading - Uploading generated training model\n",
      "2018-10-02 18:27:32 Completed - Training job completed\n",
      "\n",
      "\u001b[31mDocker entrypoint called with argument(s): train\u001b[0m\n",
      "\u001b[31m[10/02/2018 18:27:23 INFO 140003487979328] Reading default configuration from /opt/amazon/lib/python2.7/site-packages/algorithm/resources/default-input.json: {u'_tuning_objective_metric': u'', u'_num_gpus': u'auto', u'local_lloyd_num_trials': u'auto', u'_log_level': u'info', u'_kvstore': u'auto', u'local_lloyd_init_method': u'kmeans++', u'force_dense': u'true', u'epochs': u'1', u'init_method': u'random', u'local_lloyd_tol': u'0.0001', u'local_lloyd_max_iter': u'300', u'_disable_wait_to_read': u'false', u'extra_center_factor': u'auto', u'eval_metrics': u'[\"msd\"]', u'_num_kv_servers': u'1', u'mini_batch_size': u'5000', u'half_life_time_size': u'0', u'_num_slices': u'1'}\u001b[0m\n",
      "\u001b[31m[10/02/2018 18:27:23 INFO 140003487979328] Reading provided configuration from /opt/ml/input/config/hyperparameters.json: {u'k': u'20', u'force_dense': u'True', u'init_method': u'kmeans++', u'feature_dim': u'21', u'local_lloyd_max_iter': u'100', u'extra_center_factor': u'1'}\u001b[0m\n",
      "\u001b[31m[10/02/2018 18:27:23 INFO 140003487979328] Final configuration: {u'_tuning_objective_metric': u'', u'extra_center_factor': u'1', u'local_lloyd_init_method': u'kmeans++', u'force_dense': u'True', u'epochs': u'1', u'feature_dim': u'21', u'local_lloyd_tol': u'0.0001', u'_disable_wait_to_read': u'false', u'eval_metrics': u'[\"msd\"]', u'_num_kv_servers': u'1', u'mini_batch_size': u'5000', u'_num_gpus': u'auto', u'local_lloyd_num_trials': u'auto', u'_log_level': u'info', u'init_method': u'kmeans++', u'half_life_time_size': u'0', u'local_lloyd_max_iter': u'100', u'_kvstore': u'auto', u'k': u'20', u'_num_slices': u'1'}\u001b[0m\n",
      "\u001b[31m[10/02/2018 18:27:23 WARNING 140003487979328] Loggers have already been setup.\u001b[0m\n",
      "\u001b[31m[10/02/2018 18:27:23 INFO 140003487979328] Using default worker.\u001b[0m\n",
      "\u001b[31m[10/02/2018 18:27:23 INFO 140003487979328] Loaded iterator creator application/x-recordio-protobuf for content type ('application/x-recordio-protobuf', '1.0')\u001b[0m\n",
      "\u001b[31m[10/02/2018 18:27:23 INFO 140003487979328] Create Store: local\u001b[0m\n",
      "\u001b[31m[10/02/2018 18:27:23 INFO 140003487979328] nvidia-smi took: 0.0251748561859 secs to identify 0 gpus\u001b[0m\n",
      "\u001b[31m[10/02/2018 18:27:23 INFO 140003487979328] Number of GPUs being used: 0\u001b[0m\n",
      "\u001b[31m[10/02/2018 18:27:23 INFO 140003487979328] Setting up with params: {u'_tuning_objective_metric': u'', u'extra_center_factor': u'1', u'local_lloyd_init_method': u'kmeans++', u'force_dense': u'True', u'epochs': u'1', u'feature_dim': u'21', u'local_lloyd_tol': u'0.0001', u'_disable_wait_to_read': u'false', u'eval_metrics': u'[\"msd\"]', u'_num_kv_servers': u'1', u'mini_batch_size': u'5000', u'_num_gpus': u'auto', u'local_lloyd_num_trials': u'auto', u'_log_level': u'info', u'init_method': u'kmeans++', u'half_life_time_size': u'0', u'local_lloyd_max_iter': u'100', u'_kvstore': u'auto', u'k': u'20', u'_num_slices': u'1'}\u001b[0m\n",
      "\u001b[31m/opt/amazon/lib/python2.7/site-packages/ai_algorithms_sdk/config/config_helper.py:172: DeprecationWarning: deprecated\n",
      "  warnings.warn(\"deprecated\", DeprecationWarning)\u001b[0m\n",
      "\u001b[31m/opt/amazon/lib/python2.7/site-packages/ai_algorithms_sdk/config/config_helper.py:122: DeprecationWarning: deprecated\n",
      "  warnings.warn(\"deprecated\", DeprecationWarning)\u001b[0m\n",
      "\u001b[31m[10/02/2018 18:27:23 INFO 140003487979328] Number of GPUs being used: 0\u001b[0m\n",
      "\u001b[31m[10/02/2018 18:27:23 INFO 140003487979328] number of center slices 1\u001b[0m\n",
      "\u001b[31m#metrics {\"Metrics\": {\"Max Batches Seen Between Resets\": {\"count\": 1, \"max\": 1, \"sum\": 1.0, \"min\": 1}, \"Number of Batches Since Last Reset\": {\"count\": 1, \"max\": 1, \"sum\": 1.0, \"min\": 1}, \"Number of Records Since Last Reset\": {\"count\": 1, \"max\": 5000, \"sum\": 5000.0, \"min\": 5000}, \"Total Batches Seen\": {\"count\": 1, \"max\": 1, \"sum\": 1.0, \"min\": 1}, \"Total Records Seen\": {\"count\": 1, \"max\": 5000, \"sum\": 5000.0, \"min\": 5000}, \"Max Records Seen Between Resets\": {\"count\": 1, \"max\": 5000, \"sum\": 5000.0, \"min\": 5000}, \"Reset Count\": {\"count\": 1, \"max\": 0, \"sum\": 0.0, \"min\": 0}}, \"EndTime\": 1538504843.74208, \"Dimensions\": {\"Host\": \"algo-1\", \"Meta\": \"init_train_data_iter\", \"Operation\": \"training\", \"Algorithm\": \"AWS/KMeansWebscale\"}, \"StartTime\": 1538504843.742032}\n",
      "\u001b[0m\n",
      "\u001b[31m[10/02/2018 18:27:23 INFO 140003487979328] Iter 10: Short term msd 8898.291639. Long term msd 11799.410366\u001b[0m\n",
      "\u001b[31m[10/02/2018 18:27:23 INFO 140003487979328] Iter 20: Short term msd 6407.048070. Long term msd 7555.007837\u001b[0m\n",
      "\u001b[31m[10/02/2018 18:27:23 INFO 140003487979328] Iter 30: Short term msd 6686.927233. Long term msd 6902.818212\u001b[0m\n",
      "\u001b[31m[10/02/2018 18:27:24 INFO 140003487979328] Iter 40: Short term msd 6387.485396. Long term msd 6509.900705\u001b[0m\n",
      "\u001b[31m[10/02/2018 18:27:24 INFO 140003487979328] Iter 50: Short term msd 6971.244402. Long term msd 6838.390760\u001b[0m\n",
      "\u001b[31m[10/02/2018 18:27:24 INFO 140003487979328] Iter 60: Short term msd 7488.211935. Long term msd 7234.958202\u001b[0m\n",
      "\u001b[31m[10/02/2018 18:27:24 INFO 140003487979328] Iter 70: Short term msd 7338.151632. Long term msd 7290.489495\u001b[0m\n",
      "\u001b[31m[10/02/2018 18:27:24 INFO 140003487979328] Iter 80: Short term msd 7462.509270. Long term msd 7462.531675\u001b[0m\n",
      "\u001b[31m[10/02/2018 18:27:24 INFO 140003487979328] Iter 90: Short term msd 8044.846253. Long term msd 7880.462313\u001b[0m\n",
      "\u001b[31m[10/02/2018 18:27:24 INFO 140003487979328] processed a total of 500000 examples\u001b[0m\n",
      "\u001b[31m[10/02/2018 18:27:24 INFO 140003487979328] #progress_metric: host=algo-1, completed 100 % of epochs\u001b[0m\n",
      "\u001b[31m#metrics {\"Metrics\": {\"Max Batches Seen Between Resets\": {\"count\": 1, \"max\": 100, \"sum\": 100.0, \"min\": 100}, \"Number of Batches Since Last Reset\": {\"count\": 1, \"max\": 100, \"sum\": 100.0, \"min\": 100}, \"Number of Records Since Last Reset\": {\"count\": 1, \"max\": 500000, \"sum\": 500000.0, \"min\": 500000}, \"Total Batches Seen\": {\"count\": 1, \"max\": 101, \"sum\": 101.0, \"min\": 101}, \"Total Records Seen\": {\"count\": 1, \"max\": 505000, \"sum\": 505000.0, \"min\": 505000}, \"Max Records Seen Between Resets\": {\"count\": 1, \"max\": 500000, \"sum\": 500000.0, \"min\": 500000}, \"Reset Count\": {\"count\": 1, \"max\": 1, \"sum\": 1.0, \"min\": 1}}, \"EndTime\": 1538504844.454767, \"Dimensions\": {\"Host\": \"algo-1\", \"Meta\": \"training_data_iter\", \"Operation\": \"training\", \"Algorithm\": \"AWS/KMeansWebscale\", \"epoch\": 0}, \"StartTime\": 1538504843.742331}\n",
      "\u001b[0m\n",
      "\u001b[31m[10/02/2018 18:27:24 INFO 140003487979328] #throughput_metric: host=algo-1, train throughput=701721.887987 records/second\u001b[0m\n",
      "\u001b[31m[10/02/2018 18:27:24 WARNING 140003487979328] wait_for_all_workers will not sync workers since the kv store is not running distributed\u001b[0m\n",
      "\u001b[31m[10/02/2018 18:27:24 INFO 140003487979328] shrinking 20 centers into 20\u001b[0m\n",
      "\u001b[31m[10/02/2018 18:27:24 INFO 140003487979328] local kmeans attempt #0. Current mean square distance 0.000000\u001b[0m\n",
      "\u001b[31m[10/02/2018 18:27:24 INFO 140003487979328] local kmeans attempt #1. Current mean square distance 0.000000\u001b[0m\n",
      "\u001b[31m[10/02/2018 18:27:24 INFO 140003487979328] local kmeans attempt #2. Current mean square distance 0.000000\u001b[0m\n",
      "\u001b[31m[10/02/2018 18:27:24 INFO 140003487979328] local kmeans attempt #3. Current mean square distance 0.000000\u001b[0m\n",
      "\u001b[31m[10/02/2018 18:27:24 INFO 140003487979328] local kmeans attempt #4. Current mean square distance 0.000000\u001b[0m\n",
      "\u001b[31m[10/02/2018 18:27:24 INFO 140003487979328] local kmeans attempt #5. Current mean square distance 0.000000\u001b[0m\n",
      "\u001b[31m[10/02/2018 18:27:24 INFO 140003487979328] local kmeans attempt #6. Current mean square distance 0.000000\u001b[0m\n",
      "\u001b[31m[10/02/2018 18:27:24 INFO 140003487979328] local kmeans attempt #7. Current mean square distance 0.000000\u001b[0m\n",
      "\u001b[31m[10/02/2018 18:27:24 INFO 140003487979328] local kmeans attempt #8. Current mean square distance 0.000000\u001b[0m\n",
      "\u001b[31m[10/02/2018 18:27:24 INFO 140003487979328] local kmeans attempt #9. Current mean square distance 0.000000\u001b[0m\n",
      "\u001b[31m[10/02/2018 18:27:24 INFO 140003487979328] finished shrinking process. Mean Square Distance = 0\u001b[0m\n",
      "\u001b[31m[10/02/2018 18:27:24 INFO 140003487979328] #quality_metric: host=algo-1, train msd <loss>=1.52132262343e-08\u001b[0m\n",
      "\u001b[31m[10/02/2018 18:27:24 INFO 140003487979328] batch data loading with context took: 69.1739%, (0.487077 secs)\u001b[0m\n",
      "\u001b[31m[10/02/2018 18:27:24 INFO 140003487979328] predict compute msd took: 9.0113%, (0.063452 secs)\u001b[0m\n",
      "\u001b[31m[10/02/2018 18:27:24 INFO 140003487979328] gradient: cluster center took: 6.5850%, (0.046367 secs)\u001b[0m\n",
      "\u001b[31m[10/02/2018 18:27:24 INFO 140003487979328] update state and report convergance took: 3.2699%, (0.023025 secs)\u001b[0m\n",
      "\u001b[31m[10/02/2018 18:27:24 INFO 140003487979328] compute all data-center distances: inner product took: 2.0489%, (0.014427 secs)\u001b[0m\n",
      "\u001b[31m[10/02/2018 18:27:24 INFO 140003487979328] compute all data-center distances: point norm took: 1.9827%, (0.013961 secs)\u001b[0m\n",
      "\u001b[31m[10/02/2018 18:27:24 INFO 140003487979328] gradient: one_hot took: 1.9583%, (0.013789 secs)\u001b[0m\n",
      "\u001b[31m[10/02/2018 18:27:24 INFO 140003487979328] collect from kv store took: 1.8902%, (0.013309 secs)\u001b[0m\n",
      "\u001b[31m[10/02/2018 18:27:24 INFO 140003487979328] gradient: cluster size  took: 1.7836%, (0.012559 secs)\u001b[0m\n",
      "\u001b[31m[10/02/2018 18:27:24 INFO 140003487979328] splitting centers key-value pair took: 1.0855%, (0.007643 secs)\u001b[0m\n",
      "\u001b[31m[10/02/2018 18:27:24 INFO 140003487979328] compute all data-center distances: center norm took: 1.0317%, (0.007265 secs)\u001b[0m\n",
      "\u001b[31m[10/02/2018 18:27:24 INFO 140003487979328] predict minus dist took: 0.1618%, (0.001139 secs)\u001b[0m\n",
      "\u001b[31m[10/02/2018 18:27:24 INFO 140003487979328] update set-up time took: 0.0172%, (0.000121 secs)\u001b[0m\n",
      "\u001b[31m[10/02/2018 18:27:24 INFO 140003487979328] TOTAL took: 0.704133749008\u001b[0m\n",
      "\u001b[31m[10/02/2018 18:27:24 INFO 140003487979328] Number of GPUs being used: 0\u001b[0m\n",
      "\u001b[31m#metrics {\"Metrics\": {\"finalize.time\": {\"count\": 1, \"max\": 206.53295516967773, \"sum\": 206.53295516967773, \"min\": 206.53295516967773}, \"initialize.time\": {\"count\": 1, \"max\": 30.14683723449707, \"sum\": 30.14683723449707, \"min\": 30.14683723449707}, \"model.serialize.time\": {\"count\": 1, \"max\": 0.1590251922607422, \"sum\": 0.1590251922607422, \"min\": 0.1590251922607422}, \"update.time\": {\"count\": 1, \"max\": 712.3100757598877, \"sum\": 712.3100757598877, \"min\": 712.3100757598877}, \"epochs\": {\"count\": 1, \"max\": 1, \"sum\": 1.0, \"min\": 1}, \"state.serialize.time\": {\"count\": 1, \"max\": 0.2338886260986328, \"sum\": 0.2338886260986328, \"min\": 0.2338886260986328}, \"_shrink.time\": {\"count\": 1, \"max\": 205.83105087280273, \"sum\": 205.83105087280273, \"min\": 205.83105087280273}}, \"EndTime\": 1538504844.662022, \"Dimensions\": {\"Host\": \"algo-1\", \"Operation\": \"training\", \"Algorithm\": \"AWS/KMeansWebscale\"}, \"StartTime\": 1538504843.694255}\n",
      "\u001b[0m\n",
      "\u001b[31m[10/02/2018 18:27:24 INFO 140003487979328] Test data is not provided.\u001b[0m\n",
      "\u001b[31m#metrics {\"Metrics\": {\"totaltime\": {\"count\": 1, \"max\": 1027.4229049682617, \"sum\": 1027.4229049682617, \"min\": 1027.4229049682617}, \"setuptime\": {\"count\": 1, \"max\": 10.347843170166016, \"sum\": 10.347843170166016, \"min\": 10.347843170166016}}, \"EndTime\": 1538504844.664827, \"Dimensions\": {\"Host\": \"algo-1\", \"Operation\": \"training\", \"Algorithm\": \"AWS/KMeansWebscale\"}, \"StartTime\": 1538504844.662095}\n",
      "\u001b[0m\n",
      "Billable seconds: 41\n",
      "CPU times: user 392 ms, sys: 0 ns, total: 392 ms\n",
      "Wall time: 3min 13s\n"
     ]
    }
   ],
   "source": [
    "%%time\n",
    "sm_kmeans.fit(sm_kmeans_records)"
   ]
  },
  {
   "cell_type": "code",
   "execution_count": 23,
   "metadata": {},
   "outputs": [
    {
     "name": "stdout",
     "output_type": "stream",
     "text": [
      "Training Job Name:  kmeans-2018-10-02-18-24-35-967\n",
      "Model saved at:  s3://rpanchum/kmeans_sm_0.5Mx20/kmeans-2018-10-02-18-24-35-967/output/model.tar.gz\n"
     ]
    }
   ],
   "source": [
    "print(\"Training Job Name: \", sm_kmeans.latest_training_job.name)\n",
    "print(\"Model saved at: \", sm_kmeans.model_data)"
   ]
  },
  {
   "cell_type": "code",
   "execution_count": null,
   "metadata": {},
   "outputs": [],
   "source": []
  },
  {
   "cell_type": "markdown",
   "metadata": {},
   "source": [
    "## Intel DAAL Kmeans with 0.5Mx20 Synthetic Dataset "
   ]
  },
  {
   "cell_type": "markdown",
   "metadata": {},
   "source": [
    "### Data Prep"
   ]
  },
  {
   "cell_type": "code",
   "execution_count": 24,
   "metadata": {},
   "outputs": [
    {
     "name": "stdout",
     "output_type": "stream",
     "text": [
      "training artifacts will be uploaded to: s3://rpanchum/kmeans_sm_0.5Mx20\n"
     ]
    }
   ],
   "source": [
    "bucket_name = 'rpanchum' \n",
    "data_key = 'kmeans_sm_0.5Mx20'\n",
    "\n",
    "output_location = 's3://{}/{}'.format(bucket_name, data_key)\n",
    "\n",
    "training_data_file = input_file_0_5Mx20\n",
    "print('training artifacts will be uploaded to: {}'.format(output_location))"
   ]
  },
  {
   "cell_type": "code",
   "execution_count": null,
   "metadata": {},
   "outputs": [],
   "source": []
  },
  {
   "cell_type": "markdown",
   "metadata": {},
   "source": [
    "### DAAL Training Setup"
   ]
  },
  {
   "cell_type": "code",
   "execution_count": 25,
   "metadata": {},
   "outputs": [
    {
     "name": "stdout",
     "output_type": "stream",
     "text": [
      "Training data uploaded at: s3://rpanchum/kmeans_sm_0.5Mx20/mlsd2_500000_20_20.csv\n",
      "CPU times: user 1.01 s, sys: 248 ms, total: 1.26 s\n",
      "Wall time: 5.1 s\n"
     ]
    }
   ],
   "source": [
    "%%time\n",
    "import sagemaker as sage\n",
    "from sagemaker import get_execution_role\n",
    "\n",
    "role = get_execution_role()\n",
    "sess = sage.Session()\n",
    "\n",
    "data_location = sess.upload_data(training_data_file, bucket=bucket_name, key_prefix=data_key)\n",
    "print (\"Training data uploaded at: \" + data_location)\n",
    "\n",
    "daal_kmeans_image = '927702822156.dkr.ecr.us-west-2.amazonaws.com/daal-kmeans-sample:latest'\n",
    "\n",
    "daal_kmeans = sage.estimator.Estimator(image_name=daal_kmeans_image,\n",
    "                                       role=role,\n",
    "                                       train_instance_count=1,\n",
    "                                       train_instance_type='ml.c5.18xlarge',\n",
    "                                       output_path=output_location,\n",
    "                                       sagemaker_session=sess,\n",
    "                                       hyperparameters={'nClusters': 20,\n",
    "                                                        'initialCentroidMethod': 'plusPlusDense',\n",
    "                                                        'maxIterations': 100 } \n",
    "                                      )"
   ]
  },
  {
   "cell_type": "markdown",
   "metadata": {},
   "source": [
    "### Start DAAL Training"
   ]
  },
  {
   "cell_type": "code",
   "execution_count": 26,
   "metadata": {},
   "outputs": [
    {
     "name": "stderr",
     "output_type": "stream",
     "text": [
      "INFO:sagemaker:Creating training-job with name: daal-kmeans-sample-2018-10-02-18-27-54-672\n"
     ]
    },
    {
     "name": "stdout",
     "output_type": "stream",
     "text": [
      "2018-10-02 18:27:54 Starting - Starting the training job...\n",
      "Launching requested ML instances......\n",
      "Preparing the instances for training...\n",
      "2018-10-02 18:29:35 Downloading - Downloading input data\n",
      "2018-10-02 18:29:42 Training - Downloading the training image...\n",
      "Training image download completed. Training in progress..\n",
      "\u001b[31m2018-10-02 18:30:26 INFO     Container setup completed, In Docker entrypoint - train... \u001b[0m\n",
      "\u001b[31m2018-10-02 18:30:26 INFO     Default Hyperparameters loaded: \u001b[0m\n",
      "\u001b[31m2018-10-02 18:30:26 INFO     {'accuracyThreshold': 0.0001,\n",
      " 'assignFlag': True,\n",
      " 'distanceType': 'euclidean',\n",
      " 'gamma': 1.0,\n",
      " 'initialCentroidMethod': 'defaultDense',\n",
      " 'maxIterations': 300,\n",
      " 'method': 'defaultDense',\n",
      " 'nClusters': 2,\n",
      " 'nRounds': 5,\n",
      " 'oversamplingFactor': 0.5}\u001b[0m\n",
      "\u001b[31m2018-10-02 18:30:26 INFO     Updated with user hyperparameters, Final Hyperparameters: \u001b[0m\n",
      "\u001b[31m2018-10-02 18:30:26 INFO     {'accuracyThreshold': 0.0001,\n",
      " 'assignFlag': True,\n",
      " 'distanceType': 'euclidean',\n",
      " 'gamma': 1.0,\n",
      " 'initialCentroidMethod': u'plusPlusDense',\n",
      " 'maxIterations': u'100',\n",
      " 'method': 'defaultDense',\n",
      " 'nClusters': u'20',\n",
      " 'nRounds': 5,\n",
      " 'oversamplingFactor': 0.5}\u001b[0m\n",
      "\u001b[31m2018-10-02 18:30:26 INFO     Reading training data... \u001b[0m\n",
      "\u001b[31m2018-10-02 18:30:27 INFO     Training Data Shape: (500000, 21)\u001b[0m\n",
      "\u001b[31m2018-10-02 18:30:27 INFO     Starting DAAL Kmeans training...\u001b[0m\n",
      "\u001b[31m2018-10-02 18:30:27 INFO     Training time in sec = 0.198022127151\u001b[0m\n",
      "\u001b[31m2018-10-02 18:30:27 INFO     Model saved at <open file '/opt/ml/model/daal-kmeans-model.npy', mode 'w' at 0x7fc288b7c270>\u001b[0m\n",
      "\n",
      "2018-10-02 18:30:31 Uploading - Uploading generated training model\n",
      "2018-10-02 18:30:36 Completed - Training job completed\n",
      "Billable seconds: 62\n",
      "CPU times: user 384 ms, sys: 16 ms, total: 400 ms\n",
      "Wall time: 3min 11s\n"
     ]
    }
   ],
   "source": [
    "%%time\n",
    "daal_kmeans.fit(data_location)"
   ]
  },
  {
   "cell_type": "code",
   "execution_count": 27,
   "metadata": {},
   "outputs": [
    {
     "name": "stdout",
     "output_type": "stream",
     "text": [
      "Training Job Name:  daal-kmeans-sample-2018-10-02-18-27-54-672\n",
      "Model saved at:  s3://rpanchum/kmeans_sm_0.5Mx20/daal-kmeans-sample-2018-10-02-18-27-54-672/output/model.tar.gz\n"
     ]
    }
   ],
   "source": [
    "print(\"Training Job Name: \", daal_kmeans.latest_training_job.name)\n",
    "print(\"Model saved at: \", daal_kmeans.model_data)"
   ]
  },
  {
   "cell_type": "markdown",
   "metadata": {},
   "source": [
    "### Synthetic Dataset 1 (0.5Mx20) Summary\n",
    "\n",
    "k=20, maxIterations=100\n",
    "\n",
    "Sagemaker Training Time Only: 0.7 sec  \n",
    "DAAL Training Time Only: 0.19 sec  \n"
   ]
  },
  {
   "cell_type": "markdown",
   "metadata": {},
   "source": [
    "## Synthetic Dataset 2: 4.8Mx38, k=20 "
   ]
  },
  {
   "cell_type": "markdown",
   "metadata": {},
   "source": [
    "### Download dataset"
   ]
  },
  {
   "cell_type": "code",
   "execution_count": 28,
   "metadata": {},
   "outputs": [
    {
     "name": "stdout",
     "output_type": "stream",
     "text": [
      "--2018-10-02 18:31:06--  https://s3-us-west-2.amazonaws.com/rpanchum/kmeans_datasets/4.8Mx38/mlsd1_4898430_38_20.csv\n",
      "Resolving s3-us-west-2.amazonaws.com (s3-us-west-2.amazonaws.com)... 52.218.204.40\n",
      "Connecting to s3-us-west-2.amazonaws.com (s3-us-west-2.amazonaws.com)|52.218.204.40|:443... connected.\n",
      "HTTP request sent, awaiting response... 200 OK\n",
      "Length: 435733898 (416M) [text/csv]\n",
      "Saving to: ‘mlsd1_4898430_38_20.csv’\n",
      "\n",
      "mlsd1_4898430_38_20 100%[===================>] 415.55M  88.4MB/s    in 4.6s    \n",
      "\n",
      "2018-10-02 18:31:11 (89.7 MB/s) - ‘mlsd1_4898430_38_20.csv’ saved [435733898/435733898]\n",
      "\n"
     ]
    }
   ],
   "source": [
    "!wget -O mlsd1_4898430_38_20.csv https://s3-us-west-2.amazonaws.com/rpanchum/kmeans_datasets/4.8Mx38/mlsd1_4898430_38_20.csv"
   ]
  },
  {
   "cell_type": "markdown",
   "metadata": {},
   "source": [
    "### Data Prep"
   ]
  },
  {
   "cell_type": "code",
   "execution_count": 29,
   "metadata": {},
   "outputs": [
    {
     "name": "stdout",
     "output_type": "stream",
     "text": [
      "                 0             1             2             3             4   \\\n",
      "count  4.898430e+06  4.898430e+06  4.898430e+06  4.898430e+06  4.898430e+06   \n",
      "mean   4.833713e+01  1.843839e+03  1.091742e+03  5.716117e-06  6.487793e-04   \n",
      "std    7.223127e+02  9.414288e+05  6.450107e+05  2.390827e-03  4.284953e-02   \n",
      "min    0.000000e+00  0.000000e+00  0.000000e+00  0.000000e+00  0.000000e+00   \n",
      "25%    0.000000e+00  4.500000e+01  0.000000e+00  0.000000e+00  0.000000e+00   \n",
      "50%    0.000000e+00  5.200000e+02  0.000000e+00  0.000000e+00  0.000000e+00   \n",
      "75%    0.000000e+00  1.032000e+03  0.000000e+00  0.000000e+00  0.000000e+00   \n",
      "max    5.832900e+04  1.379964e+09  1.309937e+09  1.000000e+00  3.000000e+00   \n",
      "\n",
      "                 5             6             7             8             9   \\\n",
      "count  4.898430e+06  4.898430e+06  4.898430e+06  4.898430e+06  4.898430e+06   \n",
      "mean   7.961735e-06  1.243766e-02  3.205108e-05  1.435288e-01  8.088306e-03   \n",
      "std    7.215080e-03  4.688095e-01  7.299343e-03  3.503315e-01  3.856459e+00   \n",
      "min    0.000000e+00  0.000000e+00  0.000000e+00  0.000000e+00  0.000000e+00   \n",
      "25%    0.000000e+00  0.000000e+00  0.000000e+00  0.000000e+00  0.000000e+00   \n",
      "50%    0.000000e+00  0.000000e+00  0.000000e+00  0.000000e+00  0.000000e+00   \n",
      "75%    0.000000e+00  0.000000e+00  0.000000e+00  0.000000e+00  0.000000e+00   \n",
      "max    1.400000e+01  7.700000e+01  5.000000e+00  1.000000e+00  7.479000e+03   \n",
      "\n",
      "           ...                 28            29            30            31  \\\n",
      "count      ...       4.898430e+06  4.898430e+06  4.898430e+06  4.898430e+06   \n",
      "mean       ...       2.336963e+02  1.884808e+02  7.483524e-01  3.058517e-02   \n",
      "std        ...       6.103406e+01  1.049925e+02  4.102526e-01  1.059904e-01   \n",
      "min        ...       0.000000e+00  0.000000e+00  0.000000e+00  0.000000e+00   \n",
      "25%        ...       2.550000e+02  4.900000e+01  4.100000e-01  0.000000e+00   \n",
      "50%        ...       2.550000e+02  2.550000e+02  1.000000e+00  0.000000e+00   \n",
      "75%        ...       2.550000e+02  2.550000e+02  1.000000e+00  4.000000e-02   \n",
      "max        ...       2.550000e+02  2.550000e+02  1.000000e+00  1.000000e+00   \n",
      "\n",
      "                 32            33            34            35            36  \\\n",
      "count  4.898430e+06  4.898430e+06  4.898430e+06  4.898430e+06  4.898430e+06   \n",
      "mean   6.047089e-01  6.450152e-03  1.780691e-01  1.778579e-01  5.792641e-02   \n",
      "std    4.938553e-01  4.081934e-02  3.905994e-01  3.911031e-01  2.300195e-01   \n",
      "min    0.000000e+00  0.000000e+00  0.000000e+00  0.000000e+00  0.000000e+00   \n",
      "25%    0.000000e+00  0.000000e+00  0.000000e+00  0.000000e+00  0.000000e+00   \n",
      "50%    1.000000e+00  0.000000e+00  0.000000e+00  0.000000e+00  0.000000e+00   \n",
      "75%    1.000000e+00  0.000000e+00  0.000000e+00  0.000000e+00  0.000000e+00   \n",
      "max    1.000000e+00  1.000000e+00  1.000000e+00  1.000000e+00  1.000000e+00   \n",
      "\n",
      "                 37  \n",
      "count  4.898430e+06  \n",
      "mean   5.765594e-02  \n",
      "std    2.300605e-01  \n",
      "min    0.000000e+00  \n",
      "25%    0.000000e+00  \n",
      "50%    0.000000e+00  \n",
      "75%    0.000000e+00  \n",
      "max    1.000000e+00  \n",
      "\n",
      "[8 rows x 38 columns]\n",
      "Training data shape:  (4898430, 38)\n",
      "CPU times: user 14.9 s, sys: 1.32 s, total: 16.2 s\n",
      "Wall time: 16.2 s\n"
     ]
    }
   ],
   "source": [
    "%%time\n",
    "import pandas as pd\n",
    "import numpy as np\n",
    "\n",
    "input_file_4_8Mx38 = \"mlsd1_4898430_38_20.csv\"\n",
    "data = pd.read_csv(input_file_4_8Mx38, header=None, dtype=np.float32)\n",
    "print (data.describe())\n",
    "\n",
    "train_set = np.array(data)\n",
    "print (\"Training data shape: \", train_set.shape)"
   ]
  },
  {
   "cell_type": "code",
   "execution_count": 30,
   "metadata": {},
   "outputs": [
    {
     "name": "stdout",
     "output_type": "stream",
     "text": [
      "training artifacts will be uploaded to: s3://rpanchum/kmeans_sm_4.8Mx38\n"
     ]
    }
   ],
   "source": [
    "bucket_name = 'rpanchum' \n",
    "data_key = 'kmeans_sm_4.8Mx38'\n",
    "data_location = 's3://{}/{}'.format(bucket_name, data_key)\n",
    "output_location = 's3://{}/{}'.format(bucket_name, data_key)\n",
    "\n",
    "print('training artifacts will be uploaded to: {}'.format(output_location))"
   ]
  },
  {
   "cell_type": "markdown",
   "metadata": {},
   "source": [
    "### Sagemaker Training Setup"
   ]
  },
  {
   "cell_type": "code",
   "execution_count": 31,
   "metadata": {},
   "outputs": [
    {
     "name": "stdout",
     "output_type": "stream",
     "text": [
      "Building RecordSet format of training data as required by SM Kmeans...\n",
      "(<class 'sagemaker.amazon.amazon_estimator.RecordSet'>, {'s3_data': 's3://rpanchum/kmeans_sm_4.8Mx38/KMeans-2018-10-02-18-31-28-226/.amazon.manifest', 'feature_dim': 38, 'num_records': 4898430, 's3_data_type': 'ManifestFile', 'channel': 'train'})\n",
      "CPU times: user 2min 28s, sys: 1.85 s, total: 2min 30s\n",
      "Wall time: 2min 42s\n"
     ]
    }
   ],
   "source": [
    "%%time\n",
    "from sagemaker import KMeans\n",
    "from sagemaker import get_execution_role\n",
    "\n",
    "role = get_execution_role()\n",
    "\n",
    "sm_kmeans = KMeans(role=role,\n",
    "                    train_instance_count=1,\n",
    "                    train_instance_type='ml.c5.18xlarge',\n",
    "                    output_path=output_location,\n",
    "                    k=20,\n",
    "                    center_factor=1,\n",
    "                    init_method='kmeans++',\n",
    "                    max_iterations=100,\n",
    "                    data_location=data_location)\n",
    "\n",
    "print ('Building RecordSet format of training data as required by SM Kmeans...')\n",
    "sm_kmeans_records = sm_kmeans.record_set(train_set)\n",
    "print (sm_kmeans_records)"
   ]
  },
  {
   "cell_type": "markdown",
   "metadata": {},
   "source": [
    "### Start Sagemaker Training"
   ]
  },
  {
   "cell_type": "code",
   "execution_count": 32,
   "metadata": {},
   "outputs": [
    {
     "name": "stderr",
     "output_type": "stream",
     "text": [
      "INFO:sagemaker:Creating training-job with name: kmeans-2018-10-02-18-34-10-411\n"
     ]
    },
    {
     "name": "stdout",
     "output_type": "stream",
     "text": [
      "2018-10-02 18:34:10 Starting - Starting the training job...\n",
      "Launching requested ML instances......\n",
      "Preparing the instances for training...\n",
      "2018-10-02 18:35:47 Downloading - Downloading input data\n",
      "2018-10-02 18:35:58 Training - Downloading the training image...\n",
      "2018-10-02 18:36:32 Uploading - Uploading generated training model\n",
      "2018-10-02 18:36:37 Completed - Training job completed\n",
      "\n",
      "\u001b[31mDocker entrypoint called with argument(s): train\u001b[0m\n",
      "\u001b[31m[10/02/2018 18:36:23 INFO 140698647557952] Reading default configuration from /opt/amazon/lib/python2.7/site-packages/algorithm/resources/default-input.json: {u'_tuning_objective_metric': u'', u'_num_gpus': u'auto', u'local_lloyd_num_trials': u'auto', u'_log_level': u'info', u'_kvstore': u'auto', u'local_lloyd_init_method': u'kmeans++', u'force_dense': u'true', u'epochs': u'1', u'init_method': u'random', u'local_lloyd_tol': u'0.0001', u'local_lloyd_max_iter': u'300', u'_disable_wait_to_read': u'false', u'extra_center_factor': u'auto', u'eval_metrics': u'[\"msd\"]', u'_num_kv_servers': u'1', u'mini_batch_size': u'5000', u'half_life_time_size': u'0', u'_num_slices': u'1'}\u001b[0m\n",
      "\u001b[31m[10/02/2018 18:36:23 INFO 140698647557952] Reading provided configuration from /opt/ml/input/config/hyperparameters.json: {u'k': u'20', u'force_dense': u'True', u'init_method': u'kmeans++', u'feature_dim': u'38', u'local_lloyd_max_iter': u'100', u'extra_center_factor': u'1'}\u001b[0m\n",
      "\u001b[31m[10/02/2018 18:36:23 INFO 140698647557952] Final configuration: {u'_tuning_objective_metric': u'', u'extra_center_factor': u'1', u'local_lloyd_init_method': u'kmeans++', u'force_dense': u'True', u'epochs': u'1', u'feature_dim': u'38', u'local_lloyd_tol': u'0.0001', u'_disable_wait_to_read': u'false', u'eval_metrics': u'[\"msd\"]', u'_num_kv_servers': u'1', u'mini_batch_size': u'5000', u'_num_gpus': u'auto', u'local_lloyd_num_trials': u'auto', u'_log_level': u'info', u'init_method': u'kmeans++', u'half_life_time_size': u'0', u'local_lloyd_max_iter': u'100', u'_kvstore': u'auto', u'k': u'20', u'_num_slices': u'1'}\u001b[0m\n",
      "\u001b[31m[10/02/2018 18:36:23 WARNING 140698647557952] Loggers have already been setup.\u001b[0m\n",
      "\u001b[31m[10/02/2018 18:36:23 INFO 140698647557952] Using default worker.\u001b[0m\n",
      "\u001b[31m[10/02/2018 18:36:23 INFO 140698647557952] Loaded iterator creator application/x-recordio-protobuf for content type ('application/x-recordio-protobuf', '1.0')\u001b[0m\n",
      "\u001b[31m[10/02/2018 18:36:23 INFO 140698647557952] Create Store: local\u001b[0m\n",
      "\u001b[31m[10/02/2018 18:36:23 INFO 140698647557952] nvidia-smi took: 0.025120973587 secs to identify 0 gpus\u001b[0m\n",
      "\u001b[31m[10/02/2018 18:36:23 INFO 140698647557952] Number of GPUs being used: 0\u001b[0m\n",
      "\u001b[31m[10/02/2018 18:36:23 INFO 140698647557952] Setting up with params: {u'_tuning_objective_metric': u'', u'extra_center_factor': u'1', u'local_lloyd_init_method': u'kmeans++', u'force_dense': u'True', u'epochs': u'1', u'feature_dim': u'38', u'local_lloyd_tol': u'0.0001', u'_disable_wait_to_read': u'false', u'eval_metrics': u'[\"msd\"]', u'_num_kv_servers': u'1', u'mini_batch_size': u'5000', u'_num_gpus': u'auto', u'local_lloyd_num_trials': u'auto', u'_log_level': u'info', u'init_method': u'kmeans++', u'half_life_time_size': u'0', u'local_lloyd_max_iter': u'100', u'_kvstore': u'auto', u'k': u'20', u'_num_slices': u'1'}\u001b[0m\n",
      "\u001b[31m/opt/amazon/lib/python2.7/site-packages/ai_algorithms_sdk/config/config_helper.py:172: DeprecationWarning: deprecated\n",
      "  warnings.warn(\"deprecated\", DeprecationWarning)\u001b[0m\n",
      "\u001b[31m/opt/amazon/lib/python2.7/site-packages/ai_algorithms_sdk/config/config_helper.py:122: DeprecationWarning: deprecated\n",
      "  warnings.warn(\"deprecated\", DeprecationWarning)\u001b[0m\n",
      "\u001b[31m[10/02/2018 18:36:23 INFO 140698647557952] Number of GPUs being used: 0\u001b[0m\n",
      "\u001b[31m[10/02/2018 18:36:23 INFO 140698647557952] number of center slices 1\u001b[0m\n",
      "\u001b[31m#metrics {\"Metrics\": {\"Max Batches Seen Between Resets\": {\"count\": 1, \"max\": 1, \"sum\": 1.0, \"min\": 1}, \"Number of Batches Since Last Reset\": {\"count\": 1, \"max\": 1, \"sum\": 1.0, \"min\": 1}, \"Number of Records Since Last Reset\": {\"count\": 1, \"max\": 5000, \"sum\": 5000.0, \"min\": 5000}, \"Total Batches Seen\": {\"count\": 1, \"max\": 1, \"sum\": 1.0, \"min\": 1}, \"Total Records Seen\": {\"count\": 1, \"max\": 5000, \"sum\": 5000.0, \"min\": 5000}, \"Max Records Seen Between Resets\": {\"count\": 1, \"max\": 5000, \"sum\": 5000.0, \"min\": 5000}, \"Reset Count\": {\"count\": 1, \"max\": 0, \"sum\": 0.0, \"min\": 0}}, \"EndTime\": 1538505383.290942, \"Dimensions\": {\"Host\": \"algo-1\", \"Meta\": \"init_train_data_iter\", \"Operation\": \"training\", \"Algorithm\": \"AWS/KMeansWebscale\"}, \"StartTime\": 1538505383.290912}\n",
      "\u001b[0m\n",
      "\u001b[31m[10/02/2018 18:36:23 INFO 140698647557952] Iter 10: Short term msd 56134656.858871. Long term msd 61600806.255307\u001b[0m\n",
      "\u001b[31m[10/02/2018 18:36:23 INFO 140698647557952] Iter 20: Short term msd 15850053.174876. Long term msd 28706163.209981\u001b[0m\n",
      "\u001b[31m[10/02/2018 18:36:23 INFO 140698647557952] Iter 30: Short term msd 17448832.509471. Long term msd 19130552.248917\u001b[0m\n",
      "\u001b[31m[10/02/2018 18:36:23 INFO 140698647557952] Iter 40: Short term msd 17013065.155604. Long term msd 17228955.255896\u001b[0m\n",
      "\u001b[31m[10/02/2018 18:36:23 INFO 140698647557952] Iter 50: Short term msd 1556318759.372604. Long term msd 1672519753.969754\u001b[0m\n",
      "\u001b[31m[10/02/2018 18:36:23 INFO 140698647557952] Iter 60: Short term msd 905532860.149241. Long term msd 1243095536.145761\u001b[0m\n",
      "\u001b[31m[10/02/2018 18:36:23 INFO 140698647557952] Iter 70: Short term msd 1875352460.851033. Long term msd 1784428531.320458\u001b[0m\n",
      "\u001b[31m[10/02/2018 18:36:23 INFO 140698647557952] Iter 80: Short term msd 3187080323.035531. Long term msd 2692385226.235881\u001b[0m\n",
      "\u001b[31m[10/02/2018 18:36:24 INFO 140698647557952] Iter 90: Short term msd 2584200227765.732910. Long term msd 3729351486655.703125\u001b[0m\n",
      "\u001b[31m[10/02/2018 18:36:24 INFO 140698647557952] Iter 100: Short term msd 278397241990.252441. Long term msd 1300797721601.106445\u001b[0m\n",
      "\u001b[31m[10/02/2018 18:36:24 INFO 140698647557952] Iter 110: Short term msd 30075096263.385784. Long term msd 453787614453.983337\u001b[0m\n",
      "\u001b[31m[10/02/2018 18:36:24 INFO 140698647557952] Iter 120: Short term msd 3229293947.330007. Long term msd 158225006875.030518\u001b[0m\n",
      "\u001b[31m[10/02/2018 18:36:24 INFO 140698647557952] Iter 130: Short term msd 346746927.744114. Long term msd 55169535481.683792\u001b[0m\n",
      "\u001b[31m[10/02/2018 18:36:24 INFO 140698647557952] Iter 140: Short term msd 37235787.877399. Long term msd 19236416496.321869\u001b[0m\n",
      "\u001b[31m[10/02/2018 18:36:24 INFO 140698647557952] Iter 150: Short term msd 11752473031.202028. Long term msd 12831173727.446392\u001b[0m\n",
      "\u001b[31m[10/02/2018 18:36:24 INFO 140698647557952] Iter 160: Short term msd 2188975469.795639. Long term msd 5342829965.005961\u001b[0m\n",
      "\u001b[31m[10/02/2018 18:36:24 INFO 140698647557952] Iter 170: Short term msd 5850008673.669496. Long term msd 6827553296.476733\u001b[0m\n",
      "\u001b[31m[10/02/2018 18:36:24 INFO 140698647557952] Iter 180: Short term msd 1041805635.500881. Long term msd 2675055531.037398\u001b[0m\n",
      "\u001b[31m[10/02/2018 18:36:24 INFO 140698647557952] Iter 190: Short term msd 111979216.049810. Long term msd 932822634.035535\u001b[0m\n",
      "\u001b[31m[10/02/2018 18:36:24 INFO 140698647557952] Iter 200: Short term msd 12099665.357043. Long term msd 325312517.994304\u001b[0m\n",
      "\u001b[31m[10/02/2018 18:36:24 INFO 140698647557952] Iter 210: Short term msd 2602259161.371862. Long term msd 2563268798.805283\u001b[0m\n",
      "\u001b[31m[10/02/2018 18:36:24 INFO 140698647557952] Iter 220: Short term msd 378330915.328541. Long term msd 1036513630.839033\u001b[0m\n",
      "\u001b[31m[10/02/2018 18:36:25 INFO 140698647557952] Iter 230: Short term msd 40626902.747728. Long term msd 361412859.584164\u001b[0m\n",
      "\u001b[31m[10/02/2018 18:36:25 INFO 140698647557952] Iter 240: Short term msd 4366623.540604. Long term msd 126020029.029568\u001b[0m\n",
      "\u001b[31m[10/02/2018 18:36:25 INFO 140698647557952] Iter 250: Short term msd 472939.905152. Long term msd 43943455.924937\u001b[0m\n",
      "\u001b[31m[10/02/2018 18:36:25 INFO 140698647557952] Iter 260: Short term msd 1552051.564957. Long term msd 17010147.599911\u001b[0m\n",
      "\u001b[31m[10/02/2018 18:36:25 INFO 140698647557952] Iter 270: Short term msd 3140524089.280726. Long term msd 1623430908.682125\u001b[0m\n",
      "\u001b[31m[10/02/2018 18:36:25 INFO 140698647557952] Iter 280: Short term msd 49346263016.694130. Long term msd 28854030031.062798\u001b[0m\n",
      "\u001b[31m[10/02/2018 18:36:25 INFO 140698647557952] Iter 290: Short term msd 17042336413417.455078. Long term msd 19437291615423.894531\u001b[0m\n",
      "\u001b[31m[10/02/2018 18:36:25 INFO 140698647557952] Iter 300: Short term msd 1830035704350.876221. Long term msd 6777541133023.078125\u001b[0m\n",
      "\u001b[31m[10/02/2018 18:36:25 INFO 140698647557952] Iter 310: Short term msd 196498647217.307556. Long term msd 2363182514383.307129\u001b[0m\n",
      "\u001b[31m[10/02/2018 18:36:25 INFO 140698647557952] Iter 320: Short term msd 21098930068.025650. Long term msd 823990828777.123779\u001b[0m\n",
      "\u001b[31m[10/02/2018 18:36:25 INFO 140698647557952] Iter 330: Short term msd 2265520579.363305. Long term msd 287307866633.482178\u001b[0m\n",
      "\u001b[31m[10/02/2018 18:36:25 INFO 140698647557952] Iter 340: Short term msd 243292266.743389. Long term msd 100178083820.865891\u001b[0m\n",
      "\u001b[31m[10/02/2018 18:36:25 INFO 140698647557952] Iter 350: Short term msd 26152103.770559. Long term msd 34929959292.068161\u001b[0m\n",
      "\u001b[31m[10/02/2018 18:36:26 INFO 140698647557952] Iter 360: Short term msd 2832970.665746. Long term msd 12179342104.877968\u001b[0m\n",
      "\u001b[31m[10/02/2018 18:36:26 INFO 140698647557952] Iter 370: Short term msd 326522.264345. Long term msd 4246690557.558960\u001b[0m\n",
      "\u001b[31m[10/02/2018 18:36:26 INFO 140698647557952] Iter 380: Short term msd 54122.002934. Long term msd 1480743519.538146\u001b[0m\n",
      "\u001b[31m[10/02/2018 18:36:26 INFO 140698647557952] Iter 390: Short term msd 22665.040063. Long term msd 516315762.401915\u001b[0m\n",
      "\u001b[31m[10/02/2018 18:36:26 INFO 140698647557952] Iter 400: Short term msd 17476.494659. Long term msd 180039256.076221\u001b[0m\n",
      "\u001b[31m[10/02/2018 18:36:26 INFO 140698647557952] Iter 410: Short term msd 15385.355217. Long term msd 62785753.173227\u001b[0m\n",
      "\u001b[31m[10/02/2018 18:36:26 INFO 140698647557952] Iter 420: Short term msd 13849.482759. Long term msd 21901015.183037\u001b[0m\n",
      "\u001b[31m[10/02/2018 18:36:26 INFO 140698647557952] Iter 430: Short term msd 12554.471990. Long term msd 7644553.353092\u001b[0m\n",
      "\u001b[31m[10/02/2018 18:36:26 INFO 140698647557952] Iter 440: Short term msd 11435.024180. Long term msd 2672908.609086\u001b[0m\n",
      "\u001b[31m[10/02/2018 18:36:26 INFO 140698647557952] Iter 450: Short term msd 10460.097161. Long term msd 938772.506733\u001b[0m\n",
      "\u001b[31m[10/02/2018 18:36:26 INFO 140698647557952] Iter 460: Short term msd 9604.310786. Long term msd 333562.478023\u001b[0m\n",
      "\u001b[31m[10/02/2018 18:36:26 INFO 140698647557952] Iter 470: Short term msd 8851.101336. Long term msd 122051.057041\u001b[0m\n",
      "\u001b[31m[10/02/2018 18:36:26 INFO 140698647557952] Iter 480: Short term msd 8181.599498. Long term msd 47867.834277\u001b[0m\n",
      "\u001b[31m[10/02/2018 18:36:27 INFO 140698647557952] Iter 490: Short term msd 7585.770305. Long term msd 21615.722603\u001b[0m\n",
      "\u001b[31m[10/02/2018 18:36:27 INFO 140698647557952] Iter 500: Short term msd 7052.115690. Long term msd 12116.342724\u001b[0m\n",
      "\u001b[31m[10/02/2018 18:36:27 INFO 140698647557952] Iter 510: Short term msd 6581.916954. Long term msd 8498.733746\u001b[0m\n",
      "\u001b[31m[10/02/2018 18:36:27 INFO 140698647557952] Iter 520: Short term msd 6169.501312. Long term msd 6971.350763\u001b[0m\n",
      "\u001b[31m[10/02/2018 18:36:27 INFO 140698647557952] Iter 530: Short term msd 5783.856759. Long term msd 6188.258074\u001b[0m\n",
      "\u001b[31m[10/02/2018 18:36:27 INFO 140698647557952] Iter 540: Short term msd 5429.106850. Long term msd 5684.807127\u001b[0m\n",
      "\u001b[31m[10/02/2018 18:36:27 INFO 140698647557952] Iter 550: Short term msd 5105.277402. Long term msd 5299.094268\u001b[0m\n",
      "\u001b[31m[10/02/2018 18:36:27 INFO 140698647557952] Iter 560: Short term msd 4809.457086. Long term msd 4972.651756\u001b[0m\n",
      "\u001b[31m[10/02/2018 18:36:27 INFO 140698647557952] Iter 570: Short term msd 4538.201381. Long term msd 4682.801103\u001b[0m\n",
      "\u001b[31m[10/02/2018 18:36:27 INFO 140698647557952] Iter 580: Short term msd 4289.780522. Long term msd 4420.528475\u001b[0m\n",
      "\u001b[31m[10/02/2018 18:36:27 INFO 140698647557952] Iter 590: Short term msd 4060.987241. Long term msd 4180.578430\u001b[0m\n",
      "\u001b[31m[10/02/2018 18:36:27 INFO 140698647557952] Iter 600: Short term msd 3849.878165. Long term msd 3959.868920\u001b[0m\n",
      "\u001b[31m[10/02/2018 18:36:28 INFO 140698647557952] Iter 610: Short term msd 3655.140481. Long term msd 3756.496490\u001b[0m\n",
      "\u001b[31m[10/02/2018 18:36:28 INFO 140698647557952] Iter 620: Short term msd 3474.078058. Long term msd 3567.982168\u001b[0m\n",
      "\u001b[31m[10/02/2018 18:36:28 INFO 140698647557952] Iter 630: Short term msd 3306.510593. Long term msd 3393.487536\u001b[0m\n",
      "\u001b[31m[10/02/2018 18:36:28 INFO 140698647557952] Iter 640: Short term msd 3151.054816. Long term msd 3231.666771\u001b[0m\n",
      "\u001b[31m[10/02/2018 18:36:28 INFO 140698647557952] Iter 650: Short term msd 3006.480455. Long term msd 3081.420271\u001b[0m\n",
      "\u001b[31m[10/02/2018 18:36:28 INFO 140698647557952] Iter 660: Short term msd 2871.440379. Long term msd 2941.296480\u001b[0m\n",
      "\u001b[31m[10/02/2018 18:36:28 INFO 140698647557952] Iter 670: Short term msd 2745.438885. Long term msd 2810.565882\u001b[0m\n",
      "\u001b[31m[10/02/2018 18:36:28 INFO 140698647557952] Iter 680: Short term msd 341908516.899938. Long term msd 170955945.059429\u001b[0m\n",
      "\u001b[31m[10/02/2018 18:36:28 INFO 140698647557952] Iter 690: Short term msd 101630773825.738388. Long term msd 102759275703.635544\u001b[0m\n",
      "\u001b[31m[10/02/2018 18:36:28 INFO 140698647557952] Iter 700: Short term msd 10913302346.308138. Long term msd 35831068495.448311\u001b[0m\n",
      "\u001b[31m[10/02/2018 18:36:28 INFO 140698647557952] Iter 710: Short term msd 1171810889.943114. Long term msd 12493524018.689417\u001b[0m\n",
      "\u001b[31m[10/02/2018 18:36:28 INFO 140698647557952] Iter 720: Short term msd 125826525.494954. Long term msd 4356225569.289138\u001b[0m\n",
      "\u001b[31m[10/02/2018 18:36:29 INFO 140698647557952] Iter 730: Short term msd 13514691.357437. Long term msd 1518924981.625925\u001b[0m\n",
      "\u001b[31m[10/02/2018 18:36:29 INFO 140698647557952] Iter 740: Short term msd 450116103.083004. Long term msd 927318613.771615\u001b[0m\n",
      "\u001b[31m[10/02/2018 18:36:29 INFO 140698647557952] Iter 750: Short term msd 48334748.461576. Long term msd 323338861.687930\u001b[0m\n",
      "\u001b[31m[10/02/2018 18:36:29 INFO 140698647557952] Iter 760: Short term msd 5199801.753382. Long term msd 112749214.753466\u001b[0m\n",
      "\u001b[31m[10/02/2018 18:36:29 INFO 140698647557952] Iter 770: Short term msd 562353.452853. Long term msd 39316166.710400\u001b[0m\n",
      "\u001b[31m[10/02/2018 18:36:29 INFO 140698647557952] Iter 780: Short term msd 64528.914584. Long term msd 13711700.155994\u001b[0m\n",
      "\u001b[31m[10/02/2018 18:36:29 INFO 140698647557952] Iter 790: Short term msd 50375748334981.929688. Long term msd 45389371829461.125000\u001b[0m\n",
      "\u001b[31m[10/02/2018 18:36:29 INFO 140698647557952] Iter 800: Short term msd 5409055065335.544922. Long term msd 15826295568040.900391\u001b[0m\n",
      "\u001b[31m[10/02/2018 18:36:29 INFO 140698647557952] Iter 810: Short term msd 580793129436.631348. Long term msd 5518288244684.870117\u001b[0m\n",
      "\u001b[31m[10/02/2018 18:36:29 INFO 140698647557952] Iter 820: Short term msd 62362440870.366524. Long term msd 1924108322811.908203\u001b[0m\n",
      "\u001b[31m[10/02/2018 18:36:29 INFO 140698647557952] Iter 830: Short term msd 6696358887.490759. Long term msd 670895266312.159180\u001b[0m\n",
      "\u001b[31m[10/02/2018 18:36:29 INFO 140698647557952] Iter 840: Short term msd 719249607.204415. Long term msd 233926885903.321228\u001b[0m\n",
      "\u001b[31m[10/02/2018 18:36:30 INFO 140698647557952] Iter 850: Short term msd 77453608.311978. Long term msd 81565426213.166809\u001b[0m\n",
      "\u001b[31m[10/02/2018 18:36:30 INFO 140698647557952] Iter 860: Short term msd 8533007.086610. Long term msd 28440264046.227528\u001b[0m\n",
      "\u001b[31m[10/02/2018 18:36:30 INFO 140698647557952] Iter 870: Short term msd 1124877.443156. Long term msd 9916659626.643478\u001b[0m\n",
      "\u001b[31m[10/02/2018 18:36:30 INFO 140698647557952] Iter 880: Short term msd 322005.476781. Long term msd 3457872686.206547\u001b[0m\n",
      "\u001b[31m[10/02/2018 18:36:30 INFO 140698647557952] Iter 890: Short term msd 228776.826161. Long term msd 1205827785.104110\u001b[0m\n",
      "\u001b[31m[10/02/2018 18:36:30 INFO 140698647557952] Iter 900: Short term msd 1627923234.826551. Long term msd 1743517300.311081\u001b[0m\n",
      "\u001b[31m[10/02/2018 18:36:30 INFO 140698647557952] Iter 910: Short term msd 2973858895.466014. Long term msd 2583103451.044385\u001b[0m\n",
      "\u001b[31m[10/02/2018 18:36:30 INFO 140698647557952] Iter 920: Short term msd 362064033.494214. Long term msd 962365612.835904\u001b[0m\n",
      "\u001b[31m[10/02/2018 18:36:30 INFO 140698647557952] Iter 930: Short term msd 38880177.076473. Long term msd 335558968.790596\u001b[0m\n",
      "\u001b[31m[10/02/2018 18:36:30 INFO 140698647557952] Iter 940: Short term msd 4178895.464587. Long term msd 117005232.799795\u001b[0m\n",
      "\u001b[31m[10/02/2018 18:36:30 INFO 140698647557952] Iter 950: Short term msd 452867.965473. Long term msd 40800230.507154\u001b[0m\n",
      "\u001b[31m[10/02/2018 18:36:30 INFO 140698647557952] Iter 960: Short term msd 309364324.512498. Long term msd 299649444.542717\u001b[0m\n",
      "\u001b[31m[10/02/2018 18:36:30 INFO 140698647557952] Iter 970: Short term msd 493930934.778823. Long term msd 580350549.403173\u001b[0m\n",
      "\u001b[31m[10/02/2018 18:36:31 INFO 140698647557952] processed a total of 4898430 examples\u001b[0m\n",
      "\u001b[31m[10/02/2018 18:36:31 INFO 140698647557952] #progress_metric: host=algo-1, completed 100 % of epochs\u001b[0m\n",
      "\u001b[31m#metrics {\"Metrics\": {\"Max Batches Seen Between Resets\": {\"count\": 1, \"max\": 980, \"sum\": 980.0, \"min\": 980}, \"Number of Batches Since Last Reset\": {\"count\": 1, \"max\": 980, \"sum\": 980.0, \"min\": 980}, \"Number of Records Since Last Reset\": {\"count\": 1, \"max\": 4898430, \"sum\": 4898430.0, \"min\": 4898430}, \"Total Batches Seen\": {\"count\": 1, \"max\": 981, \"sum\": 981.0, \"min\": 981}, \"Total Records Seen\": {\"count\": 1, \"max\": 4903430, \"sum\": 4903430.0, \"min\": 4903430}, \"Max Records Seen Between Resets\": {\"count\": 1, \"max\": 4898430, \"sum\": 4898430.0, \"min\": 4898430}, \"Reset Count\": {\"count\": 1, \"max\": 1, \"sum\": 1.0, \"min\": 1}}, \"EndTime\": 1538505391.041068, \"Dimensions\": {\"Host\": \"algo-1\", \"Meta\": \"training_data_iter\", \"Operation\": \"training\", \"Algorithm\": \"AWS/KMeansWebscale\", \"epoch\": 0}, \"StartTime\": 1538505383.291184}\n",
      "\u001b[0m\n",
      "\u001b[31m[10/02/2018 18:36:31 INFO 140698647557952] #throughput_metric: host=algo-1, train throughput=632058.497761 records/second\u001b[0m\n",
      "\u001b[31m[10/02/2018 18:36:31 WARNING 140698647557952] wait_for_all_workers will not sync workers since the kv store is not running distributed\u001b[0m\n",
      "\u001b[31m[10/02/2018 18:36:31 INFO 140698647557952] shrinking 20 centers into 20\u001b[0m\n",
      "\u001b[31m[10/02/2018 18:36:31 INFO 140698647557952] local kmeans attempt #0. Current mean square distance 5126.699707\u001b[0m\n",
      "\u001b[31m[10/02/2018 18:36:31 INFO 140698647557952] local kmeans attempt #1. Current mean square distance 20217.894531\u001b[0m\n",
      "\u001b[31m[10/02/2018 18:36:31 INFO 140698647557952] local kmeans attempt #2. Current mean square distance 8019.719727\u001b[0m\n",
      "\u001b[31m[10/02/2018 18:36:31 INFO 140698647557952] local kmeans attempt #3. Current mean square distance 5126.699707\u001b[0m\n",
      "\u001b[31m[10/02/2018 18:36:31 INFO 140698647557952] local kmeans attempt #4. Current mean square distance 20217.894531\u001b[0m\n",
      "\u001b[31m[10/02/2018 18:36:31 INFO 140698647557952] local kmeans attempt #5. Current mean square distance 5126.699707\u001b[0m\n",
      "\u001b[31m[10/02/2018 18:36:31 INFO 140698647557952] local kmeans attempt #6. Current mean square distance 20217.894531\u001b[0m\n",
      "\u001b[31m[10/02/2018 18:36:31 INFO 140698647557952] local kmeans attempt #7. Current mean square distance 20217.894531\u001b[0m\n",
      "\u001b[31m[10/02/2018 18:36:31 INFO 140698647557952] local kmeans attempt #8. Current mean square distance 20217.894531\u001b[0m\n",
      "\u001b[31m[10/02/2018 18:36:31 INFO 140698647557952] local kmeans attempt #9. Current mean square distance 5126.699707\u001b[0m\n",
      "\u001b[31m[10/02/2018 18:36:31 INFO 140698647557952] finished shrinking process. Mean Square Distance = 5127\u001b[0m\n",
      "\u001b[31m[10/02/2018 18:36:31 INFO 140698647557952] #quality_metric: host=algo-1, train msd <loss>=5126.69970703\u001b[0m\n",
      "\u001b[31m[10/02/2018 18:36:31 INFO 140698647557952] batch data loading with context took: 73.3466%, (5.632636 secs)\u001b[0m\n",
      "\u001b[31m[10/02/2018 18:36:31 INFO 140698647557952] predict compute msd took: 8.7693%, (0.673436 secs)\u001b[0m\n",
      "\u001b[31m[10/02/2018 18:36:31 INFO 140698647557952] gradient: cluster center took: 4.6724%, (0.358819 secs)\u001b[0m\n",
      "\u001b[31m[10/02/2018 18:36:31 INFO 140698647557952] update state and report convergance took: 2.7930%, (0.214487 secs)\u001b[0m\n",
      "\u001b[31m[10/02/2018 18:36:31 INFO 140698647557952] compute all data-center distances: inner product took: 2.0285%, (0.155779 secs)\u001b[0m\n",
      "\u001b[31m[10/02/2018 18:36:31 INFO 140698647557952] compute all data-center distances: point norm took: 1.8506%, (0.142116 secs)\u001b[0m\n",
      "\u001b[31m[10/02/2018 18:36:31 INFO 140698647557952] collect from kv store took: 1.5899%, (0.122093 secs)\u001b[0m\n",
      "\u001b[31m[10/02/2018 18:36:31 INFO 140698647557952] gradient: cluster size  took: 1.5174%, (0.116529 secs)\u001b[0m\n",
      "\u001b[31m[10/02/2018 18:36:31 INFO 140698647557952] gradient: one_hot took: 1.5154%, (0.116377 secs)\u001b[0m\n",
      "\u001b[31m[10/02/2018 18:36:31 INFO 140698647557952] compute all data-center distances: center norm took: 0.8994%, (0.069070 secs)\u001b[0m\n",
      "\u001b[31m[10/02/2018 18:36:31 INFO 140698647557952] splitting centers key-value pair took: 0.8659%, (0.066499 secs)\u001b[0m\n",
      "\u001b[31m[10/02/2018 18:36:31 INFO 140698647557952] predict minus dist took: 0.1505%, (0.011555 secs)\u001b[0m\n",
      "\u001b[31m[10/02/2018 18:36:31 INFO 140698647557952] update set-up time took: 0.0011%, (0.000081 secs)\u001b[0m\n",
      "\u001b[31m[10/02/2018 18:36:31 INFO 140698647557952] TOTAL took: 7.67947649956\u001b[0m\n",
      "\u001b[31m[10/02/2018 18:36:31 INFO 140698647557952] Number of GPUs being used: 0\u001b[0m\n",
      "\u001b[31m#metrics {\"Metrics\": {\"finalize.time\": {\"count\": 1, \"max\": 243.86286735534668, \"sum\": 243.86286735534668, \"min\": 243.86286735534668}, \"initialize.time\": {\"count\": 1, \"max\": 38.64407539367676, \"sum\": 38.64407539367676, \"min\": 38.64407539367676}, \"model.serialize.time\": {\"count\": 1, \"max\": 0.14495849609375, \"sum\": 0.14495849609375, \"min\": 0.14495849609375}, \"update.time\": {\"count\": 1, \"max\": 7749.763965606689, \"sum\": 7749.763965606689, \"min\": 7749.763965606689}, \"epochs\": {\"count\": 1, \"max\": 1, \"sum\": 1.0, \"min\": 1}, \"state.serialize.time\": {\"count\": 1, \"max\": 0.23102760314941406, \"sum\": 0.23102760314941406, \"min\": 0.23102760314941406}, \"_shrink.time\": {\"count\": 1, \"max\": 243.1628704071045, \"sum\": 243.1628704071045, \"min\": 243.1628704071045}}, \"EndTime\": 1538505391.285587, \"Dimensions\": {\"Host\": \"algo-1\", \"Operation\": \"training\", \"Algorithm\": \"AWS/KMeansWebscale\"}, \"StartTime\": 1538505383.233633}\n",
      "\u001b[0m\n",
      "\u001b[31m[10/02/2018 18:36:31 INFO 140698647557952] Test data is not provided.\u001b[0m\n",
      "\u001b[31m#metrics {\"Metrics\": {\"totaltime\": {\"count\": 1, \"max\": 8115.573883056641, \"sum\": 8115.573883056641, \"min\": 8115.573883056641}, \"setuptime\": {\"count\": 1, \"max\": 14.676094055175781, \"sum\": 14.676094055175781, \"min\": 14.676094055175781}}, \"EndTime\": 1538505391.287321, \"Dimensions\": {\"Host\": \"algo-1\", \"Operation\": \"training\", \"Algorithm\": \"AWS/KMeansWebscale\"}, \"StartTime\": 1538505391.285654}\n",
      "\u001b[0m\n",
      "Billable seconds: 51\n",
      "CPU times: user 328 ms, sys: 28 ms, total: 356 ms\n",
      "Wall time: 2min 41s\n"
     ]
    }
   ],
   "source": [
    "%%time\n",
    "sm_kmeans.fit(sm_kmeans_records)"
   ]
  },
  {
   "cell_type": "code",
   "execution_count": null,
   "metadata": {},
   "outputs": [],
   "source": []
  },
  {
   "cell_type": "code",
   "execution_count": 33,
   "metadata": {},
   "outputs": [
    {
     "name": "stdout",
     "output_type": "stream",
     "text": [
      "Training Job Name:  kmeans-2018-10-02-18-34-10-411\n",
      "Model saved at:  s3://rpanchum/kmeans_sm_4.8Mx38/kmeans-2018-10-02-18-34-10-411/output/model.tar.gz\n"
     ]
    }
   ],
   "source": [
    "print(\"Training Job Name: \", sm_kmeans.latest_training_job.name)\n",
    "print(\"Model saved at: \", sm_kmeans.model_data)"
   ]
  },
  {
   "cell_type": "code",
   "execution_count": null,
   "metadata": {},
   "outputs": [],
   "source": []
  },
  {
   "cell_type": "markdown",
   "metadata": {},
   "source": [
    "## Intel DAAL Kmeans with 4.8Mx38 Synthetic Dataset "
   ]
  },
  {
   "cell_type": "markdown",
   "metadata": {},
   "source": [
    "### Data Prep"
   ]
  },
  {
   "cell_type": "code",
   "execution_count": 34,
   "metadata": {},
   "outputs": [
    {
     "name": "stdout",
     "output_type": "stream",
     "text": [
      "training artifacts will be uploaded to: s3://rpanchum/kmeans_daal_4.8Mx38\n"
     ]
    }
   ],
   "source": [
    "bucket_name = 'rpanchum' \n",
    "data_key = 'kmeans_daal_4.8Mx38'\n",
    "\n",
    "output_location = 's3://{}/{}'.format(bucket_name, data_key)\n",
    "\n",
    "training_data_file = input_file_4_8Mx38\n",
    "print('training artifacts will be uploaded to: {}'.format(output_location))"
   ]
  },
  {
   "cell_type": "code",
   "execution_count": null,
   "metadata": {},
   "outputs": [],
   "source": []
  },
  {
   "cell_type": "markdown",
   "metadata": {},
   "source": [
    "### DAAL Training Setup"
   ]
  },
  {
   "cell_type": "code",
   "execution_count": 35,
   "metadata": {},
   "outputs": [
    {
     "name": "stdout",
     "output_type": "stream",
     "text": [
      "Training data uploaded at: s3://rpanchum/kmeans_daal_4.8Mx38/mlsd1_4898430_38_20.csv\n",
      "CPU times: user 3.5 s, sys: 688 ms, total: 4.19 s\n",
      "Wall time: 6.04 s\n"
     ]
    }
   ],
   "source": [
    "%%time\n",
    "import sagemaker as sage\n",
    "from sagemaker import get_execution_role\n",
    "\n",
    "role = get_execution_role()\n",
    "sess = sage.Session()\n",
    "\n",
    "data_location = sess.upload_data(training_data_file, bucket=bucket_name, key_prefix=data_key)\n",
    "print (\"Training data uploaded at: \" + data_location)\n",
    "\n",
    "daal_kmeans_image = '927702822156.dkr.ecr.us-west-2.amazonaws.com/daal-kmeans-sample:latest'\n",
    "\n",
    "daal_kmeans = sage.estimator.Estimator(image_name=daal_kmeans_image,\n",
    "                                       role=role,\n",
    "                                       train_instance_count=1,\n",
    "                                       train_instance_type='ml.c5.18xlarge',\n",
    "                                       output_path=output_location,\n",
    "                                       sagemaker_session=sess,\n",
    "                                       hyperparameters={'nClusters': 20,\n",
    "                                                        'initialCentroidMethod': 'plusPlusDense',\n",
    "                                                        'maxIterations': 100 } \n",
    "                                      )"
   ]
  },
  {
   "cell_type": "markdown",
   "metadata": {},
   "source": [
    "### Start DAAL Training"
   ]
  },
  {
   "cell_type": "code",
   "execution_count": 36,
   "metadata": {},
   "outputs": [
    {
     "name": "stderr",
     "output_type": "stream",
     "text": [
      "INFO:sagemaker:Creating training-job with name: daal-kmeans-sample-2018-10-02-18-36-58-112\n"
     ]
    },
    {
     "name": "stdout",
     "output_type": "stream",
     "text": [
      "2018-10-02 18:36:58 Starting - Starting the training job...\n",
      "Launching requested ML instances.........\n",
      "Preparing the instances for training...\n",
      "2018-10-02 18:39:17 Downloading - Downloading input data\n",
      "2018-10-02 18:39:24 Training - Downloading the training image......\n",
      "Training image download completed. Training in progress.\n",
      "\u001b[31m2018-10-02 18:40:11 INFO     Container setup completed, In Docker entrypoint - train... \u001b[0m\n",
      "\u001b[31m2018-10-02 18:40:11 INFO     Default Hyperparameters loaded: \u001b[0m\n",
      "\u001b[31m2018-10-02 18:40:11 INFO     {'accuracyThreshold': 0.0001,\n",
      " 'assignFlag': True,\n",
      " 'distanceType': 'euclidean',\n",
      " 'gamma': 1.0,\n",
      " 'initialCentroidMethod': 'defaultDense',\n",
      " 'maxIterations': 300,\n",
      " 'method': 'defaultDense',\n",
      " 'nClusters': 2,\n",
      " 'nRounds': 5,\n",
      " 'oversamplingFactor': 0.5}\u001b[0m\n",
      "\u001b[31m2018-10-02 18:40:11 INFO     Updated with user hyperparameters, Final Hyperparameters: \u001b[0m\n",
      "\u001b[31m2018-10-02 18:40:11 INFO     {'accuracyThreshold': 0.0001,\n",
      " 'assignFlag': True,\n",
      " 'distanceType': 'euclidean',\n",
      " 'gamma': 1.0,\n",
      " 'initialCentroidMethod': u'plusPlusDense',\n",
      " 'maxIterations': u'100',\n",
      " 'method': 'defaultDense',\n",
      " 'nClusters': u'20',\n",
      " 'nRounds': 5,\n",
      " 'oversamplingFactor': 0.5}\u001b[0m\n",
      "\u001b[31m2018-10-02 18:40:11 INFO     Reading training data... \u001b[0m\n",
      "\u001b[31m2018-10-02 18:40:21 INFO     Training Data Shape: (4898430, 38)\u001b[0m\n",
      "\u001b[31m2018-10-02 18:40:23 INFO     Starting DAAL Kmeans training...\u001b[0m\n",
      "\u001b[31m2018-10-02 18:40:26 INFO     Training time in sec = 2.93063282967\u001b[0m\n",
      "\u001b[31m2018-10-02 18:40:26 INFO     Model saved at <open file '/opt/ml/model/daal-kmeans-model.npy', mode 'w' at 0x7fc23d14a270>\u001b[0m\n",
      "\n",
      "2018-10-02 18:40:32 Uploading - Uploading generated training model\n",
      "2018-10-02 18:40:37 Completed - Training job completed\n",
      "Billable seconds: 80\n",
      "CPU times: user 448 ms, sys: 56 ms, total: 504 ms\n",
      "Wall time: 4min 12s\n"
     ]
    }
   ],
   "source": [
    "%%time\n",
    "daal_kmeans.fit(data_location)"
   ]
  },
  {
   "cell_type": "code",
   "execution_count": 37,
   "metadata": {},
   "outputs": [
    {
     "name": "stdout",
     "output_type": "stream",
     "text": [
      "Training Job Name:  daal-kmeans-sample-2018-10-02-18-36-58-112\n",
      "Model saved at:  s3://rpanchum/kmeans_daal_4.8Mx38/daal-kmeans-sample-2018-10-02-18-36-58-112/output/model.tar.gz\n"
     ]
    }
   ],
   "source": [
    "print(\"Training Job Name: \", daal_kmeans.latest_training_job.name)\n",
    "print(\"Model saved at: \", daal_kmeans.model_data)"
   ]
  },
  {
   "cell_type": "markdown",
   "metadata": {},
   "source": [
    "### Synthetic Dataset 2 ( 4.8Mx38, k=20 ) Summary\n",
    "\n",
    "k=20, maxIterations=100\n",
    "\n",
    "Sagemaker Training Time Only: 7.67 sec  \n",
    "DAAL Training Time Only: 2.93 sec  \n"
   ]
  },
  {
   "cell_type": "markdown",
   "metadata": {},
   "source": [
    "## Covdata Dataset: 0.5Mx53, k=7 "
   ]
  },
  {
   "cell_type": "markdown",
   "metadata": {},
   "source": [
    "### Data Prep"
   ]
  },
  {
   "cell_type": "code",
   "execution_count": 38,
   "metadata": {},
   "outputs": [
    {
     "name": "stdout",
     "output_type": "stream",
     "text": [
      "--2018-10-02 18:41:10--  https://archive.ics.uci.edu/ml/machine-learning-databases/covtype/covtype.data.gz\n",
      "Resolving archive.ics.uci.edu (archive.ics.uci.edu)... 128.195.10.249\n",
      "Connecting to archive.ics.uci.edu (archive.ics.uci.edu)|128.195.10.249|:443... connected.\n",
      "HTTP request sent, awaiting response... 200 OK\n",
      "Length: 11240707 (11M) [application/x-gzip]\n",
      "Saving to: ‘covtype.data.gz’\n",
      "\n",
      "covtype.data.gz     100%[===================>]  10.72M  9.83MB/s    in 1.1s    \n",
      "\n",
      "2018-10-02 18:41:12 (9.83 MB/s) - ‘covtype.data.gz’ saved [11240707/11240707]\n",
      "\n"
     ]
    }
   ],
   "source": [
    "!wget -O covtype.data.gz https://archive.ics.uci.edu/ml/machine-learning-databases/covtype/covtype.data.gz\n",
    "!gunzip -f covtype.data.gz"
   ]
  },
  {
   "cell_type": "code",
   "execution_count": 39,
   "metadata": {},
   "outputs": [
    {
     "name": "stdout",
     "output_type": "stream",
     "text": [
      "                  0              1              2              3   \\\n",
      "count  581012.000000  581012.000000  581012.000000  581012.000000   \n",
      "mean     2959.195312     155.657913      14.103703     269.556305   \n",
      "std       279.961426     111.905106       7.488175     212.501099   \n",
      "min      1859.000000       0.000000       0.000000       0.000000   \n",
      "25%      2809.000000      58.000000       9.000000     108.000000   \n",
      "50%      2996.000000     127.000000      13.000000     218.000000   \n",
      "75%      3163.000000     260.000000      18.000000     384.000000   \n",
      "max      3858.000000     360.000000      66.000000    1397.000000   \n",
      "\n",
      "                  4              5              6              7   \\\n",
      "count  581012.000000  581012.000000  581012.000000  581012.000000   \n",
      "mean       46.417278    2350.075928     212.147415     223.342911   \n",
      "std        58.296871    1558.983276      26.765314      19.761559   \n",
      "min      -173.000000       0.000000       0.000000       0.000000   \n",
      "25%         7.000000    1106.000000     198.000000     213.000000   \n",
      "50%        30.000000    1997.000000     218.000000     226.000000   \n",
      "75%        69.000000    3328.000000     231.000000     237.000000   \n",
      "max       601.000000    7117.000000     254.000000     254.000000   \n",
      "\n",
      "                  8              9       ...                   45  \\\n",
      "count  581012.000000  581012.000000      ...        581012.000000   \n",
      "mean      142.528473    1980.342896      ...             0.090392   \n",
      "std        38.274948    1324.054443      ...             0.286548   \n",
      "min         0.000000       0.000000      ...             0.000000   \n",
      "25%       119.000000    1024.000000      ...             0.000000   \n",
      "50%       143.000000    1710.000000      ...             0.000000   \n",
      "75%       168.000000    2550.000000      ...             0.000000   \n",
      "max       254.000000    7173.000000      ...             1.000000   \n",
      "\n",
      "                  46             47             48             49  \\\n",
      "count  581012.000000  581012.000000  581012.000000  581012.000000   \n",
      "mean        0.077716       0.002773       0.003255       0.000205   \n",
      "std         0.267988       0.052577       0.056908       0.014308   \n",
      "min         0.000000       0.000000       0.000000       0.000000   \n",
      "25%         0.000000       0.000000       0.000000       0.000000   \n",
      "50%         0.000000       0.000000       0.000000       0.000000   \n",
      "75%         0.000000       0.000000       0.000000       0.000000   \n",
      "max         1.000000       1.000000       1.000000       1.000000   \n",
      "\n",
      "                  50             51             52             53  \\\n",
      "count  581012.000000  581012.000000  581012.000000  581012.000000   \n",
      "mean        0.000513       0.026803       0.023762       0.015060   \n",
      "std         0.022636       0.161620       0.152696       0.121482   \n",
      "min         0.000000       0.000000       0.000000       0.000000   \n",
      "25%         0.000000       0.000000       0.000000       0.000000   \n",
      "50%         0.000000       0.000000       0.000000       0.000000   \n",
      "75%         0.000000       0.000000       0.000000       0.000000   \n",
      "max         1.000000       1.000000       1.000000       1.000000   \n",
      "\n",
      "                  54  \n",
      "count  581012.000000  \n",
      "mean        2.051471  \n",
      "std         1.397349  \n",
      "min         1.000000  \n",
      "25%         1.000000  \n",
      "50%         2.000000  \n",
      "75%         2.000000  \n",
      "max         7.000000  \n",
      "\n",
      "[8 rows x 55 columns]\n",
      "Training data shape:  (581012, 53)\n",
      "CPU times: user 2.74 s, sys: 252 ms, total: 2.99 s\n",
      "Wall time: 2.99 s\n"
     ]
    }
   ],
   "source": [
    "%%time\n",
    "import pandas as pd\n",
    "import numpy as np\n",
    "\n",
    "input_file_covdata = \"covtype.data\"\n",
    "data = pd.read_csv(input_file_covdata, header=None, dtype=np.float32)\n",
    "print (data.describe())\n",
    "\n",
    "X = data.iloc[:,0:53]\n",
    "train_set = np.array(X.values)\n",
    "\n",
    "y = data.iloc[:,-1]\n",
    "train_labels = np.array(y.values)\n",
    "\n",
    "print (\"Training data shape: \", train_set.shape)"
   ]
  },
  {
   "cell_type": "code",
   "execution_count": 40,
   "metadata": {},
   "outputs": [
    {
     "name": "stdout",
     "output_type": "stream",
     "text": [
      "training artifacts will be uploaded to: s3://rpanchum/kmeans_sm_covdata_0.5Mx53\n"
     ]
    }
   ],
   "source": [
    "bucket_name = 'rpanchum' \n",
    "data_key = 'kmeans_sm_covdata_0.5Mx53'\n",
    "data_location = 's3://{}/{}'.format(bucket_name, data_key)\n",
    "output_location = 's3://{}/{}'.format(bucket_name, data_key)\n",
    "\n",
    "print('training artifacts will be uploaded to: {}'.format(output_location))"
   ]
  },
  {
   "cell_type": "markdown",
   "metadata": {},
   "source": [
    "### Sagemaker Training Setup"
   ]
  },
  {
   "cell_type": "code",
   "execution_count": 41,
   "metadata": {},
   "outputs": [
    {
     "name": "stdout",
     "output_type": "stream",
     "text": [
      "Building RecordSet format of training data as required by SM Kmeans...\n",
      "(<class 'sagemaker.amazon.amazon_estimator.RecordSet'>, {'s3_data': 's3://rpanchum/kmeans_sm_covdata_0.5Mx53/KMeans-2018-10-02-18-41-16-283/.amazon.manifest', 'feature_dim': 53, 'num_records': 581012, 's3_data_type': 'ManifestFile', 'channel': 'train'})\n",
      "CPU times: user 18.9 s, sys: 328 ms, total: 19.2 s\n",
      "Wall time: 21.1 s\n"
     ]
    }
   ],
   "source": [
    "%%time\n",
    "from sagemaker import KMeans\n",
    "from sagemaker import get_execution_role\n",
    "\n",
    "role = get_execution_role()\n",
    "\n",
    "sm_kmeans = KMeans(role=role,\n",
    "                    train_instance_count=1,\n",
    "                    train_instance_type='ml.c5.18xlarge',\n",
    "                    output_path=output_location,\n",
    "                    k=7,\n",
    "                    center_factor=1,\n",
    "                    init_method='kmeans++',\n",
    "                    max_iterations=100,\n",
    "                    data_location=data_location)\n",
    "\n",
    "print ('Building RecordSet format of training data as required by SM Kmeans...')\n",
    "sm_kmeans_records = sm_kmeans.record_set(train_set)\n",
    "print (sm_kmeans_records)"
   ]
  },
  {
   "cell_type": "markdown",
   "metadata": {},
   "source": [
    "### Start Sagemaker Training"
   ]
  },
  {
   "cell_type": "code",
   "execution_count": 42,
   "metadata": {},
   "outputs": [
    {
     "name": "stderr",
     "output_type": "stream",
     "text": [
      "INFO:sagemaker:Creating training-job with name: kmeans-2018-10-02-18-41-36-963\n"
     ]
    },
    {
     "name": "stdout",
     "output_type": "stream",
     "text": [
      "2018-10-02 18:41:37 Starting - Starting the training job...\n",
      "Launching requested ML instances......\n",
      "Preparing the instances for training...\n",
      "2018-10-02 18:43:33 Downloading - Downloading input data...\n",
      "2018-10-02 18:43:40 Training - Downloading the training image..\n",
      "\u001b[31mDocker entrypoint called with argument(s): train\u001b[0m\n",
      "\u001b[31m[10/02/2018 18:44:17 INFO 140589129791296] Reading default configuration from /opt/amazon/lib/python2.7/site-packages/algorithm/resources/default-input.json: {u'_tuning_objective_metric': u'', u'_num_gpus': u'auto', u'local_lloyd_num_trials': u'auto', u'_log_level': u'info', u'_kvstore': u'auto', u'local_lloyd_init_method': u'kmeans++', u'force_dense': u'true', u'epochs': u'1', u'init_method': u'random', u'local_lloyd_tol': u'0.0001', u'local_lloyd_max_iter': u'300', u'_disable_wait_to_read': u'false', u'extra_center_factor': u'auto', u'eval_metrics': u'[\"msd\"]', u'_num_kv_servers': u'1', u'mini_batch_size': u'5000', u'half_life_time_size': u'0', u'_num_slices': u'1'}\u001b[0m\n",
      "\u001b[31m[10/02/2018 18:44:17 INFO 140589129791296] Reading provided configuration from /opt/ml/input/config/hyperparameters.json: {u'k': u'7', u'force_dense': u'True', u'init_method': u'kmeans++', u'feature_dim': u'53', u'local_lloyd_max_iter': u'100', u'extra_center_factor': u'1'}\u001b[0m\n",
      "\u001b[31m[10/02/2018 18:44:17 INFO 140589129791296] Final configuration: {u'_tuning_objective_metric': u'', u'extra_center_factor': u'1', u'local_lloyd_init_method': u'kmeans++', u'force_dense': u'True', u'epochs': u'1', u'feature_dim': u'53', u'local_lloyd_tol': u'0.0001', u'_disable_wait_to_read': u'false', u'eval_metrics': u'[\"msd\"]', u'_num_kv_servers': u'1', u'mini_batch_size': u'5000', u'_num_gpus': u'auto', u'local_lloyd_num_trials': u'auto', u'_log_level': u'info', u'init_method': u'kmeans++', u'half_life_time_size': u'0', u'local_lloyd_max_iter': u'100', u'_kvstore': u'auto', u'k': u'7', u'_num_slices': u'1'}\u001b[0m\n",
      "\u001b[31m[10/02/2018 18:44:17 WARNING 140589129791296] Loggers have already been setup.\u001b[0m\n",
      "\u001b[31m[10/02/2018 18:44:17 INFO 140589129791296] Using default worker.\u001b[0m\n",
      "\u001b[31m[10/02/2018 18:44:17 INFO 140589129791296] Loaded iterator creator application/x-recordio-protobuf for content type ('application/x-recordio-protobuf', '1.0')\u001b[0m\n",
      "\u001b[31m[10/02/2018 18:44:17 INFO 140589129791296] Create Store: local\u001b[0m\n",
      "\u001b[31m[10/02/2018 18:44:17 INFO 140589129791296] nvidia-smi took: 0.0251350402832 secs to identify 0 gpus\u001b[0m\n",
      "\u001b[31m[10/02/2018 18:44:17 INFO 140589129791296] Number of GPUs being used: 0\u001b[0m\n",
      "\u001b[31m[10/02/2018 18:44:17 INFO 140589129791296] Setting up with params: {u'_tuning_objective_metric': u'', u'extra_center_factor': u'1', u'local_lloyd_init_method': u'kmeans++', u'force_dense': u'True', u'epochs': u'1', u'feature_dim': u'53', u'local_lloyd_tol': u'0.0001', u'_disable_wait_to_read': u'false', u'eval_metrics': u'[\"msd\"]', u'_num_kv_servers': u'1', u'mini_batch_size': u'5000', u'_num_gpus': u'auto', u'local_lloyd_num_trials': u'auto', u'_log_level': u'info', u'init_method': u'kmeans++', u'half_life_time_size': u'0', u'local_lloyd_max_iter': u'100', u'_kvstore': u'auto', u'k': u'7', u'_num_slices': u'1'}\u001b[0m\n",
      "\u001b[31m/opt/amazon/lib/python2.7/site-packages/ai_algorithms_sdk/config/config_helper.py:172: DeprecationWarning: deprecated\n",
      "  warnings.warn(\"deprecated\", DeprecationWarning)\u001b[0m\n",
      "\u001b[31m/opt/amazon/lib/python2.7/site-packages/ai_algorithms_sdk/config/config_helper.py:122: DeprecationWarning: deprecated\n",
      "  warnings.warn(\"deprecated\", DeprecationWarning)\u001b[0m\n",
      "\u001b[31m[10/02/2018 18:44:17 INFO 140589129791296] Number of GPUs being used: 0\u001b[0m\n",
      "\u001b[31m[10/02/2018 18:44:17 INFO 140589129791296] number of center slices 1\u001b[0m\n",
      "\u001b[31m#metrics {\"Metrics\": {\"Max Batches Seen Between Resets\": {\"count\": 1, \"max\": 1, \"sum\": 1.0, \"min\": 1}, \"Number of Batches Since Last Reset\": {\"count\": 1, \"max\": 1, \"sum\": 1.0, \"min\": 1}, \"Number of Records Since Last Reset\": {\"count\": 1, \"max\": 5000, \"sum\": 5000.0, \"min\": 5000}, \"Total Batches Seen\": {\"count\": 1, \"max\": 1, \"sum\": 1.0, \"min\": 1}, \"Total Records Seen\": {\"count\": 1, \"max\": 5000, \"sum\": 5000.0, \"min\": 5000}, \"Max Records Seen Between Resets\": {\"count\": 1, \"max\": 5000, \"sum\": 5000.0, \"min\": 5000}, \"Reset Count\": {\"count\": 1, \"max\": 0, \"sum\": 0.0, \"min\": 0}}, \"EndTime\": 1538505857.834006, \"Dimensions\": {\"Host\": \"algo-1\", \"Meta\": \"init_train_data_iter\", \"Operation\": \"training\", \"Algorithm\": \"AWS/KMeansWebscale\"}, \"StartTime\": 1538505857.833978}\n",
      "\u001b[0m\n",
      "\u001b[31m[10/02/2018 18:44:17 INFO 140589129791296] Iter 10: Short term msd 7616753.008512. Long term msd 8820838.471543\u001b[0m\n",
      "\u001b[31m[10/02/2018 18:44:18 INFO 140589129791296] Iter 20: Short term msd 2927404.471282. Long term msd 4166780.379916\u001b[0m\n",
      "\u001b[31m[10/02/2018 18:44:18 INFO 140589129791296] Iter 30: Short term msd 937427.267782. Long term msd 1920774.353813\u001b[0m\n",
      "\u001b[31m[10/02/2018 18:44:18 INFO 140589129791296] Iter 40: Short term msd 690109.493172. Long term msd 1098960.772193\u001b[0m\n",
      "\u001b[31m[10/02/2018 18:44:18 INFO 140589129791296] Iter 50: Short term msd 1158717.006320. Long term msd 1111681.668972\u001b[0m\n",
      "\u001b[31m[10/02/2018 18:44:18 INFO 140589129791296] Iter 60: Short term msd 1024258.030984. Long term msd 1071455.327489\u001b[0m\n",
      "\u001b[31m[10/02/2018 18:44:18 INFO 140589129791296] Iter 70: Short term msd 698388.576351. Long term msd 825892.587467\u001b[0m\n",
      "\u001b[31m[10/02/2018 18:44:18 INFO 140589129791296] Iter 80: Short term msd 746407.527049. Long term msd 780507.920941\u001b[0m\n",
      "\u001b[31m[10/02/2018 18:44:18 INFO 140589129791296] Iter 90: Short term msd 786451.758276. Long term msd 774222.296465\u001b[0m\n",
      "\u001b[31m[10/02/2018 18:44:18 INFO 140589129791296] Iter 100: Short term msd 672969.993681. Long term msd 714156.317445\u001b[0m\n",
      "\u001b[31m[10/02/2018 18:44:18 INFO 140589129791296] Iter 110: Short term msd 1063142.964248. Long term msd 909095.851055\u001b[0m\n",
      "\u001b[31m[10/02/2018 18:44:18 INFO 140589129791296] processed a total of 581012 examples\u001b[0m\n",
      "\u001b[31m[10/02/2018 18:44:18 INFO 140589129791296] #progress_metric: host=algo-1, completed 100 % of epochs\u001b[0m\n",
      "\u001b[31m#metrics {\"Metrics\": {\"Max Batches Seen Between Resets\": {\"count\": 1, \"max\": 117, \"sum\": 117.0, \"min\": 117}, \"Number of Batches Since Last Reset\": {\"count\": 1, \"max\": 117, \"sum\": 117.0, \"min\": 117}, \"Number of Records Since Last Reset\": {\"count\": 1, \"max\": 581012, \"sum\": 581012.0, \"min\": 581012}, \"Total Batches Seen\": {\"count\": 1, \"max\": 118, \"sum\": 118.0, \"min\": 118}, \"Total Records Seen\": {\"count\": 1, \"max\": 586012, \"sum\": 586012.0, \"min\": 586012}, \"Max Records Seen Between Resets\": {\"count\": 1, \"max\": 581012, \"sum\": 581012.0, \"min\": 581012}, \"Reset Count\": {\"count\": 1, \"max\": 1, \"sum\": 1.0, \"min\": 1}}, \"EndTime\": 1538505858.937992, \"Dimensions\": {\"Host\": \"algo-1\", \"Meta\": \"training_data_iter\", \"Operation\": \"training\", \"Algorithm\": \"AWS/KMeansWebscale\", \"epoch\": 0}, \"StartTime\": 1538505857.834176}\n",
      "\u001b[0m\n",
      "\u001b[31m[10/02/2018 18:44:18 INFO 140589129791296] #throughput_metric: host=algo-1, train throughput=526325.771722 records/second\u001b[0m\n",
      "\u001b[31m[10/02/2018 18:44:18 WARNING 140589129791296] wait_for_all_workers will not sync workers since the kv store is not running distributed\u001b[0m\n",
      "\u001b[31m[10/02/2018 18:44:18 INFO 140589129791296] shrinking 7 centers into 7\u001b[0m\n",
      "\u001b[31m[10/02/2018 18:44:18 INFO 140589129791296] local kmeans attempt #0. Current mean square distance 0.027622\u001b[0m\n",
      "\u001b[31m[10/02/2018 18:44:18 INFO 140589129791296] local kmeans attempt #1. Current mean square distance 0.027622\u001b[0m\n",
      "\u001b[31m[10/02/2018 18:44:18 INFO 140589129791296] local kmeans attempt #2. Current mean square distance 0.027622\u001b[0m\n",
      "\u001b[31m[10/02/2018 18:44:18 INFO 140589129791296] local kmeans attempt #3. Current mean square distance 0.027622\u001b[0m\n",
      "\u001b[31m[10/02/2018 18:44:18 INFO 140589129791296] local kmeans attempt #4. Current mean square distance 0.027622\u001b[0m\n",
      "\u001b[31m[10/02/2018 18:44:18 INFO 140589129791296] local kmeans attempt #5. Current mean square distance 0.027622\u001b[0m\n",
      "\u001b[31m[10/02/2018 18:44:19 INFO 140589129791296] local kmeans attempt #6. Current mean square distance 0.027622\u001b[0m\n",
      "\u001b[31m[10/02/2018 18:44:19 INFO 140589129791296] local kmeans attempt #7. Current mean square distance 0.027622\u001b[0m\n",
      "\u001b[31m[10/02/2018 18:44:19 INFO 140589129791296] local kmeans attempt #8. Current mean square distance 0.027622\u001b[0m\n",
      "\u001b[31m[10/02/2018 18:44:19 INFO 140589129791296] local kmeans attempt #9. Current mean square distance 0.027622\u001b[0m\n",
      "\u001b[31m[10/02/2018 18:44:19 INFO 140589129791296] finished shrinking process. Mean Square Distance = 0\u001b[0m\n",
      "\u001b[31m[10/02/2018 18:44:19 INFO 140589129791296] #quality_metric: host=algo-1, train msd <loss>=0.0276219397783\u001b[0m\n",
      "\u001b[31m[10/02/2018 18:44:19 INFO 140589129791296] batch data loading with context took: 76.7417%, (0.839634 secs)\u001b[0m\n",
      "\u001b[31m[10/02/2018 18:44:19 INFO 140589129791296] gradient: cluster center took: 5.7635%, (0.063059 secs)\u001b[0m\n",
      "\u001b[31m[10/02/2018 18:44:19 INFO 140589129791296] predict compute msd took: 4.7108%, (0.051541 secs)\u001b[0m\n",
      "\u001b[31m[10/02/2018 18:44:19 INFO 140589129791296] update state and report convergance took: 3.1732%, (0.034719 secs)\u001b[0m\n",
      "\u001b[31m[10/02/2018 18:44:19 INFO 140589129791296] compute all data-center distances: point norm took: 2.1530%, (0.023556 secs)\u001b[0m\n",
      "\u001b[31m[10/02/2018 18:44:19 INFO 140589129791296] compute all data-center distances: inner product took: 1.7333%, (0.018964 secs)\u001b[0m\n",
      "\u001b[31m[10/02/2018 18:44:19 INFO 140589129791296] collect from kv store took: 1.5394%, (0.016843 secs)\u001b[0m\n",
      "\u001b[31m[10/02/2018 18:44:19 INFO 140589129791296] gradient: cluster size  took: 1.3040%, (0.014267 secs)\u001b[0m\n",
      "\u001b[31m[10/02/2018 18:44:19 INFO 140589129791296] gradient: one_hot took: 1.0093%, (0.011042 secs)\u001b[0m\n",
      "\u001b[31m[10/02/2018 18:44:19 INFO 140589129791296] compute all data-center distances: center norm took: 0.8660%, (0.009475 secs)\u001b[0m\n",
      "\u001b[31m[10/02/2018 18:44:19 INFO 140589129791296] splitting centers key-value pair took: 0.8513%, (0.009314 secs)\u001b[0m\n",
      "\u001b[31m[10/02/2018 18:44:19 INFO 140589129791296] predict minus dist took: 0.1467%, (0.001605 secs)\u001b[0m\n",
      "\u001b[31m[10/02/2018 18:44:19 INFO 140589129791296] update set-up time took: 0.0078%, (0.000085 secs)\u001b[0m\n",
      "\u001b[31m[10/02/2018 18:44:19 INFO 140589129791296] TOTAL took: 1.09410405159\u001b[0m\n",
      "\u001b[31m[10/02/2018 18:44:19 INFO 140589129791296] Number of GPUs being used: 0\u001b[0m\n",
      "\u001b[31m#metrics {\"Metrics\": {\"finalize.time\": {\"count\": 1, \"max\": 96.94814682006836, \"sum\": 96.94814682006836, \"min\": 96.94814682006836}, \"initialize.time\": {\"count\": 1, \"max\": 32.5169563293457, \"sum\": 32.5169563293457, \"min\": 32.5169563293457}, \"model.serialize.time\": {\"count\": 1, \"max\": 0.16498565673828125, \"sum\": 0.16498565673828125, \"min\": 0.16498565673828125}, \"update.time\": {\"count\": 1, \"max\": 1103.6858558654785, \"sum\": 1103.6858558654785, \"min\": 1103.6858558654785}, \"epochs\": {\"count\": 1, \"max\": 1, \"sum\": 1.0, \"min\": 1}, \"state.serialize.time\": {\"count\": 1, \"max\": 0.25200843811035156, \"sum\": 0.25200843811035156, \"min\": 0.25200843811035156}, \"_shrink.time\": {\"count\": 1, \"max\": 96.1298942565918, \"sum\": 96.1298942565918, \"min\": 96.1298942565918}}, \"EndTime\": 1538505859.035666, \"Dimensions\": {\"Host\": \"algo-1\", \"Operation\": \"training\", \"Algorithm\": \"AWS/KMeansWebscale\"}, \"StartTime\": 1538505857.782339}\n",
      "\u001b[0m\n",
      "\u001b[31m[10/02/2018 18:44:19 INFO 140589129791296] Test data is not provided.\u001b[0m\n",
      "\u001b[31m#metrics {\"Metrics\": {\"totaltime\": {\"count\": 1, \"max\": 1311.340093612671, \"sum\": 1311.340093612671, \"min\": 1311.340093612671}, \"setuptime\": {\"count\": 1, \"max\": 9.943962097167969, \"sum\": 9.943962097167969, \"min\": 9.943962097167969}}, \"EndTime\": 1538505859.038085, \"Dimensions\": {\"Host\": \"algo-1\", \"Operation\": \"training\", \"Algorithm\": \"AWS/KMeansWebscale\"}, \"StartTime\": 1538505859.035747}\n",
      "\u001b[0m\n",
      "\n",
      "2018-10-02 18:44:20 Uploading - Uploading generated training model\n",
      "2018-10-02 18:44:26 Completed - Training job completed\n",
      "Billable seconds: 53\n",
      "CPU times: user 380 ms, sys: 24 ms, total: 404 ms\n",
      "Wall time: 3min 12s\n"
     ]
    }
   ],
   "source": [
    "%%time\n",
    "sm_kmeans.fit(sm_kmeans_records)"
   ]
  },
  {
   "cell_type": "code",
   "execution_count": 43,
   "metadata": {},
   "outputs": [
    {
     "name": "stdout",
     "output_type": "stream",
     "text": [
      "Training Job Name:  kmeans-2018-10-02-18-41-36-963\n",
      "Model saved at:  s3://rpanchum/kmeans_sm_covdata_0.5Mx53/kmeans-2018-10-02-18-41-36-963/output/model.tar.gz\n"
     ]
    }
   ],
   "source": [
    "print(\"Training Job Name: \", sm_kmeans.latest_training_job.name)\n",
    "print(\"Model saved at: \", sm_kmeans.model_data)"
   ]
  },
  {
   "cell_type": "markdown",
   "metadata": {},
   "source": [
    "### Download Sagemaker Trained Model and Compute Accuracy"
   ]
  },
  {
   "cell_type": "code",
   "execution_count": 44,
   "metadata": {},
   "outputs": [
    {
     "name": "stdout",
     "output_type": "stream",
     "text": [
      "Downloading the model saved at:  s3://rpanchum/kmeans_sm_covdata_0.5Mx53/kmeans-2018-10-02-18-41-36-963/output/model.tar.gz\n",
      "SM centroids shape:  (7, 53)\n"
     ]
    }
   ],
   "source": [
    "import os, boto3\n",
    "import mxnet as mx\n",
    "\n",
    "model_key = data_key + \"/\" + sm_kmeans.latest_training_job.name + '/output/model.tar.gz'\n",
    "print ('Downloading the model saved at: ', sm_kmeans.model_data)\n",
    "\n",
    "boto3.resource('s3').Bucket(bucket_name).download_file(model_key, 'sm_model.tar.gz')\n",
    "\n",
    "os.system('tar -zxf sm_model.tar.gz && unzip model_algo-1')\n",
    "\n",
    "Kmeans_model_params = mx.ndarray.load('model_algo-1')\n",
    "sagemaker_centroids=Kmeans_model_params[0].asnumpy()\n",
    "print('SM centroids shape: ', sagemaker_centroids.shape)\n"
   ]
  },
  {
   "cell_type": "code",
   "execution_count": 53,
   "metadata": {},
   "outputs": [
    {
     "name": "stdout",
     "output_type": "stream",
     "text": [
      "SM Accuracy on COVDATA Train Set:  0.061139986086812426\n"
     ]
    }
   ],
   "source": [
    "from sklearn.cluster import KMeans \n",
    "from sklearn.metrics.cluster import v_measure_score\n",
    "\n",
    "sklearn_kmeans = KMeans(7)\n",
    "sklearn_kmeans.cluster_centers_ = sagemaker_centroids\n",
    "\n",
    "sm_train_assignments=sklearn_kmeans.predict(train_set)\n",
    "\n",
    "print(\"SM Accuracy on COVDATA Train Set: \", str(v_measure_score(train_labels, sm_train_assignments)))\n"
   ]
  },
  {
   "cell_type": "code",
   "execution_count": null,
   "metadata": {},
   "outputs": [],
   "source": []
  },
  {
   "cell_type": "markdown",
   "metadata": {},
   "source": [
    "## Intel DAAL Kmeans with Covdata Dataset (0.5Mx53)"
   ]
  },
  {
   "cell_type": "markdown",
   "metadata": {},
   "source": [
    "### Data Prep"
   ]
  },
  {
   "cell_type": "code",
   "execution_count": 46,
   "metadata": {},
   "outputs": [
    {
     "name": "stdout",
     "output_type": "stream",
     "text": [
      "training artifacts will be uploaded to: s3://rpanchum/kmeans_daal_covdata\n"
     ]
    }
   ],
   "source": [
    "import numpy as np\n",
    "training_data_file = 'train_data_covdata.csv'\n",
    "np.savetxt(training_data_file, train_set, delimiter=\",\")\n",
    "\n",
    "bucket_name = 'rpanchum' \n",
    "data_key = 'kmeans_daal_covdata'\n",
    "\n",
    "output_location = 's3://{}/{}'.format(bucket_name, data_key)\n",
    "\n",
    "print('training artifacts will be uploaded to: {}'.format(output_location))"
   ]
  },
  {
   "cell_type": "code",
   "execution_count": null,
   "metadata": {},
   "outputs": [],
   "source": []
  },
  {
   "cell_type": "code",
   "execution_count": null,
   "metadata": {},
   "outputs": [],
   "source": []
  },
  {
   "cell_type": "markdown",
   "metadata": {},
   "source": [
    "### DAAL Training Setup"
   ]
  },
  {
   "cell_type": "code",
   "execution_count": 47,
   "metadata": {},
   "outputs": [
    {
     "name": "stdout",
     "output_type": "stream",
     "text": [
      "Training data uploaded at:  s3://rpanchum/kmeans_daal_covdata/train_data_covdata.csv\n",
      "CPU times: user 6.22 s, sys: 1.21 s, total: 7.43 s\n",
      "Wall time: 5.49 s\n"
     ]
    }
   ],
   "source": [
    "%%time\n",
    "import sagemaker as sage\n",
    "from sagemaker import get_execution_role\n",
    "\n",
    "role = get_execution_role()\n",
    "sess = sage.Session()\n",
    "\n",
    "data_location = sess.upload_data(training_data_file, bucket=bucket_name, key_prefix=data_key)\n",
    "print (\"Training data uploaded at: \", data_location)\n",
    "\n",
    "daal_kmeans_image = '927702822156.dkr.ecr.us-west-2.amazonaws.com/daal-kmeans-sample:latest'\n",
    "\n",
    "daal_kmeans = sage.estimator.Estimator(image_name=daal_kmeans_image,\n",
    "                                       role=role,\n",
    "                                       train_instance_count=1,\n",
    "                                       train_instance_type='ml.c5.18xlarge',\n",
    "                                       output_path=output_location,\n",
    "                                       sagemaker_session=sess,\n",
    "                                       hyperparameters={'nClusters': 7,\n",
    "                                                        'initialCentroidMethod': 'plusPlusDense',\n",
    "                                                        'maxIterations': 100 } \n",
    "                                      )"
   ]
  },
  {
   "cell_type": "markdown",
   "metadata": {},
   "source": [
    "### Start DAAL Training"
   ]
  },
  {
   "cell_type": "code",
   "execution_count": 48,
   "metadata": {},
   "outputs": [
    {
     "name": "stderr",
     "output_type": "stream",
     "text": [
      "INFO:sagemaker:Creating training-job with name: daal-kmeans-sample-2018-10-02-18-45-16-389\n"
     ]
    },
    {
     "name": "stdout",
     "output_type": "stream",
     "text": [
      "2018-10-02 18:45:16 Starting - Starting the training job...\n",
      "Launching requested ML instances............\n",
      "Preparing the instances for training...\n",
      "2018-10-02 18:48:09 Downloading - Downloading input data...\n",
      "2018-10-02 18:48:22 Training - Downloading the training image...\n",
      "Training image download completed. Training in progress..\n",
      "\u001b[31m2018-10-02 18:49:11 INFO     Container setup completed, In Docker entrypoint - train... \u001b[0m\n",
      "\u001b[31m2018-10-02 18:49:11 INFO     Default Hyperparameters loaded: \u001b[0m\n",
      "\u001b[31m2018-10-02 18:49:11 INFO     {'accuracyThreshold': 0.0001,\n",
      " 'assignFlag': True,\n",
      " 'distanceType': 'euclidean',\n",
      " 'gamma': 1.0,\n",
      " 'initialCentroidMethod': 'defaultDense',\n",
      " 'maxIterations': 300,\n",
      " 'method': 'defaultDense',\n",
      " 'nClusters': 2,\n",
      " 'nRounds': 5,\n",
      " 'oversamplingFactor': 0.5}\u001b[0m\n",
      "\u001b[31m2018-10-02 18:49:11 INFO     Updated with user hyperparameters, Final Hyperparameters: \u001b[0m\n",
      "\u001b[31m2018-10-02 18:49:11 INFO     {'accuracyThreshold': 0.0001,\n",
      " 'assignFlag': True,\n",
      " 'distanceType': 'euclidean',\n",
      " 'gamma': 1.0,\n",
      " 'initialCentroidMethod': u'plusPlusDense',\n",
      " 'maxIterations': u'100',\n",
      " 'method': 'defaultDense',\n",
      " 'nClusters': u'7',\n",
      " 'nRounds': 5,\n",
      " 'oversamplingFactor': 0.5}\u001b[0m\n",
      "\u001b[31m2018-10-02 18:49:11 INFO     Reading training data... \u001b[0m\n",
      "\u001b[31m2018-10-02 18:49:18 INFO     Training Data Shape: (581012, 53)\u001b[0m\n",
      "\u001b[31m2018-10-02 18:49:18 INFO     Starting DAAL Kmeans training...\u001b[0m\n",
      "\u001b[31m2018-10-02 18:49:19 INFO     Training time in sec = 0.449151039124\u001b[0m\n",
      "\u001b[31m2018-10-02 18:49:19 INFO     Model saved at <open file '/opt/ml/model/daal-kmeans-model.npy', mode 'w' at 0x7fe4105f3270>\u001b[0m\n",
      "\n",
      "2018-10-02 18:49:21 Uploading - Uploading generated training model\n",
      "2018-10-02 18:49:27 Completed - Training job completed\n",
      "Billable seconds: 79\n",
      "CPU times: user 528 ms, sys: 16 ms, total: 544 ms\n",
      "Wall time: 4min 42s\n"
     ]
    }
   ],
   "source": [
    "%%time\n",
    "daal_kmeans.fit(data_location)"
   ]
  },
  {
   "cell_type": "code",
   "execution_count": 49,
   "metadata": {},
   "outputs": [
    {
     "name": "stdout",
     "output_type": "stream",
     "text": [
      "Training Job Name:  daal-kmeans-sample-2018-10-02-18-45-16-389\n",
      "Model saved at:  s3://rpanchum/kmeans_daal_covdata/daal-kmeans-sample-2018-10-02-18-45-16-389/output/model.tar.gz\n"
     ]
    }
   ],
   "source": [
    "print(\"Training Job Name: \", daal_kmeans.latest_training_job.name)\n",
    "print(\"Model saved at: \", daal_kmeans.model_data)"
   ]
  },
  {
   "cell_type": "markdown",
   "metadata": {},
   "source": [
    "### Download DAAL Trained Model and Compute Accuracy"
   ]
  },
  {
   "cell_type": "code",
   "execution_count": 50,
   "metadata": {},
   "outputs": [
    {
     "name": "stdout",
     "output_type": "stream",
     "text": [
      "Downloading the model saved at:  s3://rpanchum/kmeans_daal_covdata/daal-kmeans-sample-2018-10-02-18-45-16-389/output/model.tar.gz\n",
      " DAAL centroids shape:  (7, 53)\n"
     ]
    }
   ],
   "source": [
    "import os, boto3\n",
    "\n",
    "model_key = data_key + \"/\" + daal_kmeans.latest_training_job.name + '/output/model.tar.gz'\n",
    "print ('Downloading the model saved at: ', daal_kmeans.model_data)\n",
    "\n",
    "boto3.resource('s3').Bucket(bucket_name).download_file(model_key, 'daal_model.tar.gz')\n",
    "\n",
    "os.system('tar -zxf daal_model.tar.gz')\n",
    "daal_centroids, daal_assignments = np.load(\"daal-kmeans-model.npy\", encoding = 'latin1')\n",
    "print(' DAAL centroids shape: ', daal_centroids.shape)"
   ]
  },
  {
   "cell_type": "code",
   "execution_count": 52,
   "metadata": {},
   "outputs": [
    {
     "name": "stdout",
     "output_type": "stream",
     "text": [
      "DAAL Accuracy on COVDATA Train Set:  0.07395242346495647\n"
     ]
    }
   ],
   "source": [
    "from sklearn.cluster import KMeans \n",
    "from sklearn.metrics.cluster import v_measure_score\n",
    "\n",
    "sklearn_kmeans = KMeans(7)\n",
    "sklearn_kmeans.cluster_centers_ = daal_centroids\n",
    "\n",
    "daal_train_assignments=sklearn_kmeans.predict(train_set)\n",
    "\n",
    "print(\"DAAL Accuracy on COVDATA Train Set: \", str(v_measure_score(train_labels, daal_train_assignments)))\n"
   ]
  },
  {
   "cell_type": "markdown",
   "metadata": {},
   "source": [
    "### Covdata (0.5Mx53) Summary\n",
    "\n",
    "k=7, maxIterations=100\n",
    "\n",
    "Sagemaker Training Time Only: 1.09 sec  \n",
    "DAAL Training Time Only: 0.44 sec  \n",
    "\n",
    "Sagemaker COVDATA Train set Accuracy: 6.1%  \n",
    "DAAL COVDATA Train set Accuracy: 7.3%  "
   ]
  },
  {
   "cell_type": "code",
   "execution_count": null,
   "metadata": {},
   "outputs": [],
   "source": []
  }
 ],
 "metadata": {
  "kernelspec": {
   "display_name": "conda_python3",
   "language": "python",
   "name": "conda_python3"
  },
  "language_info": {
   "codemirror_mode": {
    "name": "ipython",
    "version": 3
   },
   "file_extension": ".py",
   "mimetype": "text/x-python",
   "name": "python",
   "nbconvert_exporter": "python",
   "pygments_lexer": "ipython3",
   "version": "3.6.5"
  },
  "notice": "Copyright 2017 Amazon.com, Inc. or its affiliates. All Rights Reserved.  Licensed under the Apache License, Version 2.0 (the \"License\"). You may not use this file except in compliance with the License. A copy of the License is located at http://aws.amazon.com/apache2.0/ or in the \"license\" file accompanying this file. This file is distributed on an \"AS IS\" BASIS, WITHOUT WARRANTIES OR CONDITIONS OF ANY KIND, either express or implied. See the License for the specific language governing permissions and limitations under the License."
 },
 "nbformat": 4,
 "nbformat_minor": 2
}
