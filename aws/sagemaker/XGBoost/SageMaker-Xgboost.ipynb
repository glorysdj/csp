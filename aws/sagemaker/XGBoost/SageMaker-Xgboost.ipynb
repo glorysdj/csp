{
 "cells": [
  {
   "cell_type": "markdown",
   "metadata": {},
   "source": [
    "Let's begin with import of required packages"
   ]
  },
  {
   "cell_type": "code",
   "execution_count": 2,
   "metadata": {},
   "outputs": [],
   "source": [
    "#CONFIGURATION STEP\n",
    "\n",
    "import numpy as np                                # For matrix operations and numerical processing\n",
    "import pandas as pd                               # For munging tabular data\n",
    "import matplotlib.pyplot as plt                   # For charts and visualizations\n",
    "from IPython.display import Image                 # For displaying images in the notebook\n",
    "from IPython.display import display               # For displaying outputs in the notebook\n",
    "from time import gmtime, strftime                 # For labeling SageMaker models, endpoints, etc.\n",
    "import sys                                        # For writing outputs to notebook\n",
    "import math                                       # For ceiling function\n",
    "import json                                       # For parsing hosting outputs\n",
    "import os                                         # For manipulating filepath names\n",
    "import sagemaker                                  # Amazon SageMaker's Python SDK provides many helper functions\n",
    "from sagemaker.predictor import csv_serializer    # Converts strings for HTTP POST requests on inference\n",
    "import boto3\n",
    "import re\n",
    "from sagemaker import get_execution_role"
   ]
  },
  {
   "cell_type": "markdown",
   "metadata": {},
   "source": [
    "Get an read HIGGS dataset. Split it to train/test"
   ]
  },
  {
   "cell_type": "code",
   "execution_count": 4,
   "metadata": {},
   "outputs": [
    {
     "name": "stdout",
     "output_type": "stream",
     "text": [
      "--2018-10-04 11:13:09--  https://s3.amazonaws.com/h2o-public-test-data/bigdata/laptop/higgs_head_2M.csv\n",
      "Resolving s3.amazonaws.com (s3.amazonaws.com)... 54.231.82.108\n",
      "Connecting to s3.amazonaws.com (s3.amazonaws.com)|54.231.82.108|:443... connected.\n",
      "HTTP request sent, awaiting response... 200 OK\n",
      "Length: 1461001471 (1.4G) [text/plain]\n",
      "Saving to: ‘higgs_head_2M.csv.1’\n",
      "\n",
      "higgs_head_2M.csv.1 100%[===================>]   1.36G  27.0MB/s    in 84s     \n",
      "\n",
      "2018-10-04 11:14:33 (16.6 MB/s) - ‘higgs_head_2M.csv.1’ saved [1461001471/1461001471]\n",
      "\n",
      "    0         1         2         3         4         5         6         7   \\\n",
      "0  1.0  0.869293 -0.635082  0.225690  0.327470 -0.689993  0.754202 -0.248573   \n",
      "1  1.0  0.907542  0.329147  0.359412  1.497970 -0.313010  1.095531 -0.557525   \n",
      "2  1.0  0.798835  1.470639 -1.635975  0.453773  0.425629  1.104875  1.282322   \n",
      "3  0.0  1.344385 -0.876626  0.935913  1.992050  0.882454  1.786066 -1.646778   \n",
      "4  1.0  1.105009  0.321356  1.522401  0.882808 -1.205349  0.681466 -1.070464   \n",
      "\n",
      "         8         9     ...           19        20        21        22  \\\n",
      "0 -1.092064  0.000000    ...    -0.010455 -0.045767  3.101961  1.353760   \n",
      "1 -1.588230  2.173076    ...    -1.138930 -0.000819  0.000000  0.302220   \n",
      "2  1.381664  0.000000    ...     1.128848  0.900461  0.000000  0.909753   \n",
      "3 -0.942383  0.000000    ...    -0.678379 -1.360356  0.000000  0.946652   \n",
      "4 -0.921871  0.000000    ...    -0.373566  0.113041  0.000000  0.755856   \n",
      "\n",
      "         23        24        25        26        27        28  \n",
      "0  0.979563  0.978076  0.920005  0.721657  0.988751  0.876678  \n",
      "1  0.833048  0.985700  0.978098  0.779732  0.992356  0.798343  \n",
      "2  1.108330  0.985692  0.951331  0.803252  0.865924  0.780118  \n",
      "3  1.028704  0.998656  0.728281  0.869200  1.026736  0.957904  \n",
      "4  1.361057  0.986610  0.838085  1.133295  0.872245  0.808487  \n",
      "\n",
      "[5 rows x 29 columns]\n"
     ]
    }
   ],
   "source": [
    "!wget https://s3.amazonaws.com/h2o-public-test-data/bigdata/laptop/higgs_head_2M.csv\n",
    "    \n",
    "dataset = pd.read_csv('./higgs_head_2M.csv',header=None)\n",
    "print(dataset.head())\n",
    "\n",
    "train = dataset.head(1000000)\n",
    "test = dataset.tail(1000000)"
   ]
  },
  {
   "cell_type": "code",
   "execution_count": 12,
   "metadata": {},
   "outputs": [],
   "source": [
    "!rm train.csv\n",
    "!rm validation.csv"
   ]
  },
  {
   "cell_type": "markdown",
   "metadata": {},
   "source": [
    "Load train/test data into separate CSV files"
   ]
  },
  {
   "cell_type": "code",
   "execution_count": 13,
   "metadata": {},
   "outputs": [],
   "source": [
    "train.to_csv('higgs_train.csv', index=None, header=None)\n",
    "test.to_csv('higgs_validation.csv', index=None, header=None)"
   ]
  },
  {
   "cell_type": "markdown",
   "metadata": {},
   "source": [
    "Upload files to S3"
   ]
  },
  {
   "cell_type": "code",
   "execution_count": 14,
   "metadata": {},
   "outputs": [],
   "source": [
    "bucket = 'okremnyo'\n",
    "prefix = 'sagemaker/DEMO-xgboost-dm'\n",
    "\n",
    "boto3.Session().resource('s3').Bucket(bucket).Object(os.path.join(prefix, 'higgs_train/train.csv')).upload_file('higgs_train.csv')\n",
    "boto3.Session().resource('s3').Bucket(bucket).Object(os.path.join(prefix, 'higgs_validation/validation.csv')).upload_file('higgs_validation.csv')"
   ]
  },
  {
   "cell_type": "code",
   "execution_count": 15,
   "metadata": {},
   "outputs": [],
   "source": [
    "from sagemaker.amazon.amazon_estimator import get_image_uri\n",
    "container = get_image_uri(boto3.Session().region_name, 'xgboost')\n",
    "\n",
    "s3_input_train = sagemaker.s3_input(s3_data='s3://{}/{}/higgs_train'.format(bucket, prefix), content_type='csv')\n",
    "s3_input_validation = sagemaker.s3_input(s3_data='s3://{}/{}/higgs_validation/'.format(bucket, prefix), content_type='csv')"
   ]
  },
  {
   "cell_type": "markdown",
   "metadata": {},
   "source": [
    "Run the SageMaker Xgboost algorithm"
   ]
  },
  {
   "cell_type": "code",
   "execution_count": 17,
   "metadata": {},
   "outputs": [
    {
     "name": "stderr",
     "output_type": "stream",
     "text": [
      "INFO:sagemaker:Creating training-job with name: xgboost-2018-10-04-11-42-29-329\n"
     ]
    },
    {
     "name": "stdout",
     "output_type": "stream",
     "text": [
      "...............\n",
      "\u001b[31mArguments: train\u001b[0m\n",
      "\u001b[31m[2018-10-04:11:44:53:INFO] Running standalone xgboost training.\u001b[0m\n",
      "\u001b[31m[2018-10-04:11:44:53:INFO] Path /opt/ml/input/data/validation does not exist!\u001b[0m\n",
      "\u001b[31m[2018-10-04:11:44:53:INFO] File size need to be processed in the node: 482.3mb. Available memory size in the node: 132119.0mb\u001b[0m\n",
      "\u001b[31m[2018-10-04:11:44:53:INFO] Determined delimiter of CSV input is ','\u001b[0m\n",
      "\u001b[31m[11:44:53] S3DistributionType set as FullyReplicated\u001b[0m\n",
      "\u001b[31m[11:44:53] 1000000x28 matrix with 28000000 entries loaded from /opt/ml/input/data/train?format=csv&label_column=0&delimiter=,\u001b[0m\n",
      "\u001b[31m[11:44:54] src/tree/updater_prune.cc:74: tree pruning end, 1 roots, 126 extra nodes, 0 pruned nodes, max_depth=6\u001b[0m\n",
      "\u001b[31m[0]#011train-error:0.319795\u001b[0m\n",
      "\u001b[31m[11:44:54] src/tree/updater_prune.cc:74: tree pruning end, 1 roots, 126 extra nodes, 0 pruned nodes, max_depth=6\u001b[0m\n",
      "\u001b[31m[1]#011train-error:0.311113\u001b[0m\n",
      "\u001b[31m[11:44:54] src/tree/updater_prune.cc:74: tree pruning end, 1 roots, 126 extra nodes, 0 pruned nodes, max_depth=6\u001b[0m\n",
      "\u001b[31m[2]#011train-error:0.303611\u001b[0m\n",
      "\u001b[31m[11:44:55] src/tree/updater_prune.cc:74: tree pruning end, 1 roots, 126 extra nodes, 0 pruned nodes, max_depth=6\u001b[0m\n",
      "\u001b[31m[3]#011train-error:0.300777\u001b[0m\n",
      "\u001b[31m[11:44:55] src/tree/updater_prune.cc:74: tree pruning end, 1 roots, 126 extra nodes, 0 pruned nodes, max_depth=6\u001b[0m\n",
      "\u001b[31m[4]#011train-error:0.296268\u001b[0m\n",
      "\u001b[31m[11:44:55] src/tree/updater_prune.cc:74: tree pruning end, 1 roots, 126 extra nodes, 0 pruned nodes, max_depth=6\u001b[0m\n",
      "\u001b[31m[5]#011train-error:0.292911\u001b[0m\n",
      "\u001b[31m[11:44:55] src/tree/updater_prune.cc:74: tree pruning end, 1 roots, 126 extra nodes, 0 pruned nodes, max_depth=6\u001b[0m\n",
      "\u001b[31m[6]#011train-error:0.289163\u001b[0m\n",
      "\u001b[31m[11:44:56] src/tree/updater_prune.cc:74: tree pruning end, 1 roots, 126 extra nodes, 0 pruned nodes, max_depth=6\u001b[0m\n",
      "\u001b[31m[7]#011train-error:0.286861\u001b[0m\n",
      "\u001b[31m[11:44:56] src/tree/updater_prune.cc:74: tree pruning end, 1 roots, 126 extra nodes, 0 pruned nodes, max_depth=6\u001b[0m\n",
      "\u001b[31m[8]#011train-error:0.284983\u001b[0m\n",
      "\u001b[31m[11:44:56] src/tree/updater_prune.cc:74: tree pruning end, 1 roots, 126 extra nodes, 0 pruned nodes, max_depth=6\u001b[0m\n",
      "\u001b[31m[9]#011train-error:0.283628\u001b[0m\n",
      "\u001b[31m[11:44:56] src/tree/updater_prune.cc:74: tree pruning end, 1 roots, 126 extra nodes, 0 pruned nodes, max_depth=6\u001b[0m\n",
      "\u001b[31m[10]#011train-error:0.281961\u001b[0m\n",
      "\u001b[31m[11:44:57] src/tree/updater_prune.cc:74: tree pruning end, 1 roots, 126 extra nodes, 0 pruned nodes, max_depth=6\u001b[0m\n",
      "\u001b[31m[11]#011train-error:0.280628\u001b[0m\n",
      "\u001b[31m[11:44:57] src/tree/updater_prune.cc:74: tree pruning end, 1 roots, 124 extra nodes, 0 pruned nodes, max_depth=6\u001b[0m\n",
      "\u001b[31m[12]#011train-error:0.279331\u001b[0m\n",
      "\u001b[31m[11:44:57] src/tree/updater_prune.cc:74: tree pruning end, 1 roots, 126 extra nodes, 0 pruned nodes, max_depth=6\u001b[0m\n",
      "\u001b[31m[13]#011train-error:0.278094\u001b[0m\n",
      "\u001b[31m[11:44:57] src/tree/updater_prune.cc:74: tree pruning end, 1 roots, 126 extra nodes, 0 pruned nodes, max_depth=6\u001b[0m\n",
      "\u001b[31m[14]#011train-error:0.276743\u001b[0m\n",
      "\u001b[31m[11:44:58] src/tree/updater_prune.cc:74: tree pruning end, 1 roots, 126 extra nodes, 0 pruned nodes, max_depth=6\u001b[0m\n",
      "\u001b[31m[15]#011train-error:0.275683\u001b[0m\n",
      "\u001b[31m[11:44:58] src/tree/updater_prune.cc:74: tree pruning end, 1 roots, 114 extra nodes, 0 pruned nodes, max_depth=6\u001b[0m\n",
      "\u001b[31m[16]#011train-error:0.275143\u001b[0m\n",
      "\u001b[31m[11:44:58] src/tree/updater_prune.cc:74: tree pruning end, 1 roots, 126 extra nodes, 0 pruned nodes, max_depth=6\u001b[0m\n",
      "\u001b[31m[17]#011train-error:0.273819\u001b[0m\n",
      "\u001b[31m[11:44:58] src/tree/updater_prune.cc:74: tree pruning end, 1 roots, 122 extra nodes, 0 pruned nodes, max_depth=6\u001b[0m\n",
      "\u001b[31m[18]#011train-error:0.273231\u001b[0m\n",
      "\u001b[31m[11:44:59] src/tree/updater_prune.cc:74: tree pruning end, 1 roots, 126 extra nodes, 0 pruned nodes, max_depth=6\u001b[0m\n",
      "\u001b[31m[19]#011train-error:0.272536\u001b[0m\n",
      "\u001b[31m[11:44:59] src/tree/updater_prune.cc:74: tree pruning end, 1 roots, 126 extra nodes, 0 pruned nodes, max_depth=6\u001b[0m\n",
      "\u001b[31m[20]#011train-error:0.271809\u001b[0m\n",
      "\u001b[31m[11:44:59] src/tree/updater_prune.cc:74: tree pruning end, 1 roots, 108 extra nodes, 0 pruned nodes, max_depth=6\u001b[0m\n",
      "\u001b[31m[21]#011train-error:0.271549\u001b[0m\n",
      "\u001b[31m[11:44:59] src/tree/updater_prune.cc:74: tree pruning end, 1 roots, 124 extra nodes, 0 pruned nodes, max_depth=6\u001b[0m\n",
      "\u001b[31m[22]#011train-error:0.271046\u001b[0m\n",
      "\u001b[31m[11:45:00] src/tree/updater_prune.cc:74: tree pruning end, 1 roots, 126 extra nodes, 0 pruned nodes, max_depth=6\u001b[0m\n",
      "\u001b[31m[23]#011train-error:0.27039\u001b[0m\n",
      "\u001b[31m[11:45:00] src/tree/updater_prune.cc:74: tree pruning end, 1 roots, 126 extra nodes, 0 pruned nodes, max_depth=6\u001b[0m\n",
      "\u001b[31m[24]#011train-error:0.26998\u001b[0m\n",
      "\u001b[31m[11:45:00] src/tree/updater_prune.cc:74: tree pruning end, 1 roots, 120 extra nodes, 0 pruned nodes, max_depth=6\u001b[0m\n",
      "\u001b[31m[25]#011train-error:0.269691\u001b[0m\n",
      "\u001b[31m[11:45:00] src/tree/updater_prune.cc:74: tree pruning end, 1 roots, 124 extra nodes, 0 pruned nodes, max_depth=6\u001b[0m\n",
      "\u001b[31m[26]#011train-error:0.269246\u001b[0m\n",
      "\u001b[31m[11:45:01] src/tree/updater_prune.cc:74: tree pruning end, 1 roots, 126 extra nodes, 0 pruned nodes, max_depth=6\u001b[0m\n",
      "\u001b[31m[27]#011train-error:0.268884\u001b[0m\n",
      "\u001b[31m[11:45:01] src/tree/updater_prune.cc:74: tree pruning end, 1 roots, 126 extra nodes, 0 pruned nodes, max_depth=6\u001b[0m\n",
      "\u001b[31m[28]#011train-error:0.268623\u001b[0m\n",
      "\u001b[31m[11:45:01] src/tree/updater_prune.cc:74: tree pruning end, 1 roots, 122 extra nodes, 0 pruned nodes, max_depth=6\u001b[0m\n",
      "\u001b[31m[29]#011train-error:0.268003\u001b[0m\n",
      "\u001b[31m[11:45:01] src/tree/updater_prune.cc:74: tree pruning end, 1 roots, 126 extra nodes, 0 pruned nodes, max_depth=6\u001b[0m\n",
      "\u001b[31m[30]#011train-error:0.267706\u001b[0m\n",
      "\u001b[31m[11:45:02] src/tree/updater_prune.cc:74: tree pruning end, 1 roots, 122 extra nodes, 0 pruned nodes, max_depth=6\u001b[0m\n",
      "\u001b[31m[31]#011train-error:0.26732\u001b[0m\n",
      "\u001b[31m[11:45:02] src/tree/updater_prune.cc:74: tree pruning end, 1 roots, 126 extra nodes, 0 pruned nodes, max_depth=6\u001b[0m\n",
      "\u001b[31m[32]#011train-error:0.266638\u001b[0m\n",
      "\u001b[31m[11:45:02] src/tree/updater_prune.cc:74: tree pruning end, 1 roots, 120 extra nodes, 0 pruned nodes, max_depth=6\u001b[0m\n",
      "\u001b[31m[33]#011train-error:0.266449\u001b[0m\n",
      "\u001b[31m[11:45:02] src/tree/updater_prune.cc:74: tree pruning end, 1 roots, 126 extra nodes, 0 pruned nodes, max_depth=6\u001b[0m\n",
      "\u001b[31m[34]#011train-error:0.26565\u001b[0m\n",
      "\u001b[31m[11:45:03] src/tree/updater_prune.cc:74: tree pruning end, 1 roots, 126 extra nodes, 0 pruned nodes, max_depth=6\u001b[0m\n",
      "\u001b[31m[35]#011train-error:0.265219\u001b[0m\n",
      "\u001b[31m[11:45:03] src/tree/updater_prune.cc:74: tree pruning end, 1 roots, 108 extra nodes, 0 pruned nodes, max_depth=6\u001b[0m\n",
      "\u001b[31m[36]#011train-error:0.265129\u001b[0m\n",
      "\u001b[31m[11:45:03] src/tree/updater_prune.cc:74: tree pruning end, 1 roots, 102 extra nodes, 0 pruned nodes, max_depth=6\u001b[0m\n",
      "\u001b[31m[37]#011train-error:0.265021\u001b[0m\n",
      "\u001b[31m[11:45:03] src/tree/updater_prune.cc:74: tree pruning end, 1 roots, 122 extra nodes, 0 pruned nodes, max_depth=6\u001b[0m\n",
      "\u001b[31m[38]#011train-error:0.26472\u001b[0m\n",
      "\u001b[31m[11:45:04] src/tree/updater_prune.cc:74: tree pruning end, 1 roots, 126 extra nodes, 0 pruned nodes, max_depth=6\u001b[0m\n",
      "\u001b[31m[39]#011train-error:0.264288\u001b[0m\n",
      "\u001b[31m[11:45:04] src/tree/updater_prune.cc:74: tree pruning end, 1 roots, 126 extra nodes, 0 pruned nodes, max_depth=6\u001b[0m\n",
      "\u001b[31m[40]#011train-error:0.263686\u001b[0m\n",
      "\u001b[31m[11:45:04] src/tree/updater_prune.cc:74: tree pruning end, 1 roots, 126 extra nodes, 0 pruned nodes, max_depth=6\u001b[0m\n",
      "\u001b[31m[41]#011train-error:0.263223\u001b[0m\n",
      "\u001b[31m[11:45:04] src/tree/updater_prune.cc:74: tree pruning end, 1 roots, 126 extra nodes, 0 pruned nodes, max_depth=6\u001b[0m\n",
      "\u001b[31m[42]#011train-error:0.262808\u001b[0m\n",
      "\u001b[31m[11:45:05] src/tree/updater_prune.cc:74: tree pruning end, 1 roots, 126 extra nodes, 0 pruned nodes, max_depth=6\u001b[0m\n",
      "\u001b[31m[43]#011train-error:0.262642\u001b[0m\n",
      "\u001b[31m[11:45:05] src/tree/updater_prune.cc:74: tree pruning end, 1 roots, 126 extra nodes, 0 pruned nodes, max_depth=6\u001b[0m\n",
      "\u001b[31m[44]#011train-error:0.261931\u001b[0m\n",
      "\u001b[31m[11:45:05] src/tree/updater_prune.cc:74: tree pruning end, 1 roots, 122 extra nodes, 0 pruned nodes, max_depth=6\u001b[0m\n",
      "\u001b[31m[45]#011train-error:0.261691\u001b[0m\n",
      "\u001b[31m[11:45:05] src/tree/updater_prune.cc:74: tree pruning end, 1 roots, 114 extra nodes, 0 pruned nodes, max_depth=6\u001b[0m\n",
      "\u001b[31m[46]#011train-error:0.261433\u001b[0m\n",
      "\u001b[31m[11:45:06] src/tree/updater_prune.cc:74: tree pruning end, 1 roots, 126 extra nodes, 0 pruned nodes, max_depth=6\u001b[0m\n",
      "\u001b[31m[47]#011train-error:0.260843\u001b[0m\n",
      "\u001b[31m[11:45:06] src/tree/updater_prune.cc:74: tree pruning end, 1 roots, 78 extra nodes, 0 pruned nodes, max_depth=6\u001b[0m\n",
      "\u001b[31m[48]#011train-error:0.260797\u001b[0m\n",
      "\u001b[31m[11:45:06] src/tree/updater_prune.cc:74: tree pruning end, 1 roots, 124 extra nodes, 0 pruned nodes, max_depth=6\u001b[0m\n",
      "\u001b[31m[49]#011train-error:0.260526\u001b[0m\n"
     ]
    },
    {
     "name": "stdout",
     "output_type": "stream",
     "text": [
      "\n",
      "Billable seconds: 41\n"
     ]
    }
   ],
   "source": [
    "sess = sagemaker.Session()\n",
    "role = get_execution_role()\n",
    "\n",
    "xgb = sagemaker.estimator.Estimator(container,\n",
    "                                    role, \n",
    "                                    train_instance_count=1, \n",
    "                                    train_instance_type='ml.c5.18xlarge',\n",
    "                                    output_path='s3://{}/{}/output'.format(bucket, prefix),\n",
    "                                    sagemaker_session=sess)\n",
    "xgb.set_hyperparameters(max_depth=6,\n",
    "                        eta=0.3,\n",
    "                        silent=0,\n",
    "                        objective='binary:logistic',\n",
    "                        num_round=50)\n",
    "\n",
    "xgb.fit({'train': s3_input_train})"
   ]
  },
  {
   "cell_type": "markdown",
   "metadata": {},
   "source": [
    "Run the prediction"
   ]
  },
  {
   "cell_type": "code",
   "execution_count": 18,
   "metadata": {},
   "outputs": [
    {
     "name": "stderr",
     "output_type": "stream",
     "text": [
      "INFO:sagemaker:Creating model with name: xgboost-2018-10-04-11-48-22-811\n",
      "INFO:sagemaker:Creating endpoint with name xgboost-2018-10-04-11-42-29-329\n"
     ]
    },
    {
     "name": "stdout",
     "output_type": "stream",
     "text": [
      "--------------------------------------------------------------!"
     ]
    }
   ],
   "source": [
    "xgb_predictor = xgb.deploy(initial_instance_count=1,\n",
    "                           instance_type='ml.m4.xlarge')"
   ]
  },
  {
   "cell_type": "code",
   "execution_count": 19,
   "metadata": {},
   "outputs": [],
   "source": [
    "xgb_predictor.content_type = 'text/csv'\n",
    "xgb_predictor.serializer = csv_serializer"
   ]
  },
  {
   "cell_type": "markdown",
   "metadata": {},
   "source": [
    "Get the predictions"
   ]
  },
  {
   "cell_type": "code",
   "execution_count": 20,
   "metadata": {},
   "outputs": [],
   "source": [
    "def predict(data, rows=500):\n",
    "    split_array = np.array_split(data, int(data.shape[0] / float(rows) + 1))\n",
    "    predictions = ''\n",
    "    for array in split_array:\n",
    "        predictions = ','.join([predictions, xgb_predictor.predict(array).decode('utf-8')])\n",
    "\n",
    "    return np.fromstring(predictions[1:], sep=',')\n",
    "\n",
    "predictions = predict(test.drop(0, axis=1).as_matrix())"
   ]
  },
  {
   "cell_type": "markdown",
   "metadata": {},
   "source": [
    "Get the SageMaker Xgboost classification report"
   ]
  },
  {
   "cell_type": "code",
   "execution_count": 21,
   "metadata": {},
   "outputs": [
    {
     "name": "stdout",
     "output_type": "stream",
     "text": [
      "Accuracy =  0.733854\n",
      "             precision    recall  f1-score   support\n",
      "\n",
      "        0.0       0.72      0.71      0.71    470855\n",
      "        1.0       0.74      0.76      0.75    529145\n",
      "\n",
      "avg / total       0.73      0.73      0.73   1000000\n",
      "\n"
     ]
    }
   ],
   "source": [
    "from sklearn.metrics import accuracy_score\n",
    "print('Accuracy = ', accuracy_score(test[0], np.round(predictions)))\n",
    "\n",
    "from sklearn.metrics import classification_report\n",
    "print(classification_report(test[0], np.round(predictions)))"
   ]
  }
 ],
 "metadata": {
  "kernelspec": {
   "display_name": "conda_python3",
   "language": "python",
   "name": "conda_python3"
  },
  "language_info": {
   "codemirror_mode": {
    "name": "ipython",
    "version": 3
   },
   "file_extension": ".py",
   "mimetype": "text/x-python",
   "name": "python",
   "nbconvert_exporter": "python",
   "pygments_lexer": "ipython3",
   "version": "3.6.5"
  }
 },
 "nbformat": 4,
 "nbformat_minor": 2
}
